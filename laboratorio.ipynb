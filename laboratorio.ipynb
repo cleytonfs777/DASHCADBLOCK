{
 "cells": [
  {
   "cell_type": "code",
   "execution_count": 99,
   "metadata": {},
   "outputs": [],
   "source": [
    "import numpy as np\n",
    "import pandas as pd\n",
    "import json"
   ]
  },
  {
   "cell_type": "code",
   "execution_count": 93,
   "metadata": {},
   "outputs": [],
   "source": [
    "# Carregar o JSON\n",
    "with open(\"resposta.json\", \"r\", encoding=\"utf-8\") as file:\n",
    "    data = json.load(file)"
   ]
  },
  {
   "cell_type": "code",
   "execution_count": 94,
   "metadata": {},
   "outputs": [
    {
     "data": {
      "text/html": [
       "<div>\n",
       "<style scoped>\n",
       "    .dataframe tbody tr th:only-of-type {\n",
       "        vertical-align: middle;\n",
       "    }\n",
       "\n",
       "    .dataframe tbody tr th {\n",
       "        vertical-align: top;\n",
       "    }\n",
       "\n",
       "    .dataframe thead th {\n",
       "        text-align: right;\n",
       "    }\n",
       "</style>\n",
       "<table border=\"1\" class=\"dataframe\">\n",
       "  <thead>\n",
       "    <tr style=\"text-align: right;\">\n",
       "      <th></th>\n",
       "      <th>numero_chamada</th>\n",
       "      <th>numero_reds</th>\n",
       "      <th>data_criacao</th>\n",
       "      <th>local_fato</th>\n",
       "      <th>latitude</th>\n",
       "      <th>longitude</th>\n",
       "      <th>natureza</th>\n",
       "      <th>unidade_responsavel</th>\n",
       "      <th>recursos_empenhados</th>\n",
       "      <th>alerta</th>\n",
       "      <th>destaque</th>\n",
       "      <th>envolve_autoridade</th>\n",
       "      <th>tipo_classificacao</th>\n",
       "      <th>situacao</th>\n",
       "      <th>data_situacao_atual</th>\n",
       "      <th>evento_associado</th>\n",
       "    </tr>\n",
       "  </thead>\n",
       "  <tbody>\n",
       "    <tr>\n",
       "      <th>0</th>\n",
       "      <td>2022-22621198-6</td>\n",
       "      <td>(BM) 2022-025580093-001</td>\n",
       "      <td>14/06/2022 21:15:32</td>\n",
       "      <td>RUA CECILIA VICTOR, Nº 72 - BAIRRO PIRES - CON...</td>\n",
       "      <td>-20.437388</td>\n",
       "      <td>-43.846586</td>\n",
       "      <td>S04012 - BUSCA E SALVAMENTO EM LOCAL DE DIFICI...</td>\n",
       "      <td>2CIA IND/2CIA/1PEL/PA BM(CONGONHAS)</td>\n",
       "      <td>ASL00082</td>\n",
       "      <td>Não</td>\n",
       "      <td>Não</td>\n",
       "      <td>Não</td>\n",
       "      <td>BOLETIM DE OCORRENCIA</td>\n",
       "      <td>Classificada</td>\n",
       "      <td>16/06/2022 13:02:39</td>\n",
       "      <td>Não</td>\n",
       "    </tr>\n",
       "    <tr>\n",
       "      <th>1</th>\n",
       "      <td>2022-23735040-5</td>\n",
       "      <td>(BM) 2022-037444211-009 / (PM) 2022-037444211-008</td>\n",
       "      <td>27/08/2022 13:35:02</td>\n",
       "      <td>RUA JOSE DEMETRIO COELHO, Nº 2780 - CIDADE NOV...</td>\n",
       "      <td>-20.200915</td>\n",
       "      <td>-44.753439</td>\n",
       "      <td>S04007 - BUSCA E SALVAMENTO DE PESSOA PERDIDA ...</td>\n",
       "      <td>10BBM/1CIA/4PEL</td>\n",
       "      <td>ACA00571 / ACA00571 / TAN / VSP10 / APP00979 /...</td>\n",
       "      <td>Não</td>\n",
       "      <td>Não</td>\n",
       "      <td>Não</td>\n",
       "      <td>BOLETIM DE OCORRENCIA</td>\n",
       "      <td>Classificada</td>\n",
       "      <td>31/08/2022 05:56:32</td>\n",
       "      <td>Não</td>\n",
       "    </tr>\n",
       "  </tbody>\n",
       "</table>\n",
       "</div>"
      ],
      "text/plain": [
       "    numero_chamada                                        numero_reds  \\\n",
       "0  2022-22621198-6                            (BM) 2022-025580093-001   \n",
       "1  2022-23735040-5  (BM) 2022-037444211-009 / (PM) 2022-037444211-008   \n",
       "\n",
       "          data_criacao                                         local_fato  \\\n",
       "0  14/06/2022 21:15:32  RUA CECILIA VICTOR, Nº 72 - BAIRRO PIRES - CON...   \n",
       "1  27/08/2022 13:35:02  RUA JOSE DEMETRIO COELHO, Nº 2780 - CIDADE NOV...   \n",
       "\n",
       "    latitude  longitude                                           natureza  \\\n",
       "0 -20.437388 -43.846586  S04012 - BUSCA E SALVAMENTO EM LOCAL DE DIFICI...   \n",
       "1 -20.200915 -44.753439  S04007 - BUSCA E SALVAMENTO DE PESSOA PERDIDA ...   \n",
       "\n",
       "                   unidade_responsavel  \\\n",
       "0  2CIA IND/2CIA/1PEL/PA BM(CONGONHAS)   \n",
       "1                      10BBM/1CIA/4PEL   \n",
       "\n",
       "                                 recursos_empenhados alerta destaque  \\\n",
       "0                                           ASL00082    Não      Não   \n",
       "1  ACA00571 / ACA00571 / TAN / VSP10 / APP00979 /...    Não      Não   \n",
       "\n",
       "  envolve_autoridade     tipo_classificacao      situacao  \\\n",
       "0                Não  BOLETIM DE OCORRENCIA  Classificada   \n",
       "1                Não  BOLETIM DE OCORRENCIA  Classificada   \n",
       "\n",
       "   data_situacao_atual evento_associado  \n",
       "0  16/06/2022 13:02:39              Não  \n",
       "1  31/08/2022 05:56:32              Não  "
      ]
     },
     "execution_count": 94,
     "metadata": {},
     "output_type": "execute_result"
    }
   ],
   "source": [
    "# Converter a lista de dicionários para um DataFrame\n",
    "df = pd.DataFrame(data)\n",
    "df.head(2)"
   ]
  },
  {
   "cell_type": "code",
   "execution_count": 98,
   "metadata": {},
   "outputs": [
    {
     "data": {
      "text/html": [
       "<div>\n",
       "<style scoped>\n",
       "    .dataframe tbody tr th:only-of-type {\n",
       "        vertical-align: middle;\n",
       "    }\n",
       "\n",
       "    .dataframe tbody tr th {\n",
       "        vertical-align: top;\n",
       "    }\n",
       "\n",
       "    .dataframe thead th {\n",
       "        text-align: right;\n",
       "    }\n",
       "</style>\n",
       "<table border=\"1\" class=\"dataframe\">\n",
       "  <thead>\n",
       "    <tr style=\"text-align: right;\">\n",
       "      <th></th>\n",
       "      <th>numero_chamada</th>\n",
       "      <th>numero_reds</th>\n",
       "      <th>data_criacao</th>\n",
       "      <th>local_fato</th>\n",
       "      <th>latitude</th>\n",
       "      <th>longitude</th>\n",
       "      <th>natureza</th>\n",
       "      <th>unidade_responsavel</th>\n",
       "      <th>recursos_empenhados</th>\n",
       "      <th>alerta</th>\n",
       "      <th>destaque</th>\n",
       "      <th>envolve_autoridade</th>\n",
       "      <th>tipo_classificacao</th>\n",
       "      <th>situacao</th>\n",
       "      <th>data_situacao_atual</th>\n",
       "      <th>evento_associado</th>\n",
       "      <th>Natureza</th>\n",
       "      <th>Natureza2</th>\n",
       "    </tr>\n",
       "  </thead>\n",
       "  <tbody>\n",
       "    <tr>\n",
       "      <th>0</th>\n",
       "      <td>2022-22621198-6</td>\n",
       "      <td>(BM) 2022-025580093-001</td>\n",
       "      <td>14/06/2022 21:15:32</td>\n",
       "      <td>RUA CECILIA VICTOR, Nº 72 - BAIRRO PIRES - CON...</td>\n",
       "      <td>-20.437388</td>\n",
       "      <td>-43.846586</td>\n",
       "      <td>S04012 - BUSCA E SALVAMENTO EM LOCAL DE DIFICI...</td>\n",
       "      <td>2CIA IND/2CIA/1PEL/PA BM(CONGONHAS)</td>\n",
       "      <td>ASL00082</td>\n",
       "      <td>Não</td>\n",
       "      <td>Não</td>\n",
       "      <td>Não</td>\n",
       "      <td>BOLETIM DE OCORRENCIA</td>\n",
       "      <td>Classificada</td>\n",
       "      <td>16/06/2022 13:02:39</td>\n",
       "      <td>Não</td>\n",
       "      <td>S04012 - BUSCA E SALVAMENTO EM LOCAL DE DIFICI...</td>\n",
       "      <td>S04012</td>\n",
       "    </tr>\n",
       "    <tr>\n",
       "      <th>1</th>\n",
       "      <td>2022-23735040-5</td>\n",
       "      <td>(BM) 2022-037444211-009 / (PM) 2022-037444211-008</td>\n",
       "      <td>27/08/2022 13:35:02</td>\n",
       "      <td>RUA JOSE DEMETRIO COELHO, Nº 2780 - CIDADE NOV...</td>\n",
       "      <td>-20.200915</td>\n",
       "      <td>-44.753439</td>\n",
       "      <td>S04007 - BUSCA E SALVAMENTO DE PESSOA PERDIDA ...</td>\n",
       "      <td>10BBM/1CIA/4PEL</td>\n",
       "      <td>ACA00571 / ACA00571 / TAN / VSP10 / APP00979 /...</td>\n",
       "      <td>Não</td>\n",
       "      <td>Não</td>\n",
       "      <td>Não</td>\n",
       "      <td>BOLETIM DE OCORRENCIA</td>\n",
       "      <td>Classificada</td>\n",
       "      <td>31/08/2022 05:56:32</td>\n",
       "      <td>Não</td>\n",
       "      <td>S04007 - BUSCA E SALVAMENTO DE PESSOA PERDIDA</td>\n",
       "      <td>NaN</td>\n",
       "    </tr>\n",
       "    <tr>\n",
       "      <th>2</th>\n",
       "      <td>2023-29279366-2</td>\n",
       "      <td>(BM) 2023-038720052-001</td>\n",
       "      <td>18/08/2023 17:08:41</td>\n",
       "      <td>CONDOMINIO ESTANCIA DO LAGO, Nº S/N - CARMO DO...</td>\n",
       "      <td>-20.252825</td>\n",
       "      <td>-44.730712</td>\n",
       "      <td>S02003 - AFOGAMENTO EM LAGO / LAGOA / REPRESA ...</td>\n",
       "      <td>10BBM/1CIA/2PEL</td>\n",
       "      <td>REF11007</td>\n",
       "      <td>Não</td>\n",
       "      <td>Não</td>\n",
       "      <td>Não</td>\n",
       "      <td>BOLETIM DE OCORRENCIA</td>\n",
       "      <td>Classificada</td>\n",
       "      <td>19/08/2023 07:40:30</td>\n",
       "      <td>OPERAÇÃO GUARDIÕES DO BIOMA</td>\n",
       "      <td>S02003 - AFOGAMENTO EM LAGO</td>\n",
       "      <td>NaN</td>\n",
       "    </tr>\n",
       "    <tr>\n",
       "      <th>3</th>\n",
       "      <td>2023-29349678-3</td>\n",
       "      <td>(BM) 2023-039436473-001 / (PM) 2023-039436473-003</td>\n",
       "      <td>23/08/2023 06:06:27</td>\n",
       "      <td>AVENIDA GOVERNADOR MAGALHAES PINTO, Nº S/N - E...</td>\n",
       "      <td>-20.106671</td>\n",
       "      <td>-44.843654</td>\n",
       "      <td>S02006 - BUSCA E RECUPERACAO DE CADAVER SUBMER...</td>\n",
       "      <td>10BBM/1CIA/2PEL</td>\n",
       "      <td>ACA00571 / ASL00814 / UR00560</td>\n",
       "      <td>Não</td>\n",
       "      <td>Não</td>\n",
       "      <td>Não</td>\n",
       "      <td>BOLETIM DE OCORRENCIA</td>\n",
       "      <td>Classificada</td>\n",
       "      <td>23/08/2023 14:52:51</td>\n",
       "      <td>Não</td>\n",
       "      <td>S02006 - BUSCA E RECUPERACAO DE CADAVER SUBMERSO</td>\n",
       "      <td>S02006</td>\n",
       "    </tr>\n",
       "    <tr>\n",
       "      <th>4</th>\n",
       "      <td>2023-29753799-0</td>\n",
       "      <td>(BM) 2023-043685580-001</td>\n",
       "      <td>17/09/2023 19:06:09</td>\n",
       "      <td>RODOVIA BR 354, Km 410 - BAMBUI</td>\n",
       "      <td>-19.962090</td>\n",
       "      <td>-45.959278</td>\n",
       "      <td>S02006 - BUSCA E RECUPERACAO DE CADAVER SUBMER...</td>\n",
       "      <td>10BBM/4CIA/1PEL/PA BM(ARCOS)</td>\n",
       "      <td>ASL02409</td>\n",
       "      <td>Não</td>\n",
       "      <td>Não</td>\n",
       "      <td>Não</td>\n",
       "      <td>BOLETIM DE OCORRENCIA</td>\n",
       "      <td>Classificada</td>\n",
       "      <td>18/09/2023 08:51:47</td>\n",
       "      <td>Não</td>\n",
       "      <td>S02006 - BUSCA E RECUPERACAO DE CADAVER SUBMERSO</td>\n",
       "      <td>S02006</td>\n",
       "    </tr>\n",
       "  </tbody>\n",
       "</table>\n",
       "</div>"
      ],
      "text/plain": [
       "    numero_chamada                                        numero_reds  \\\n",
       "0  2022-22621198-6                            (BM) 2022-025580093-001   \n",
       "1  2022-23735040-5  (BM) 2022-037444211-009 / (PM) 2022-037444211-008   \n",
       "2  2023-29279366-2                            (BM) 2023-038720052-001   \n",
       "3  2023-29349678-3  (BM) 2023-039436473-001 / (PM) 2023-039436473-003   \n",
       "4  2023-29753799-0                            (BM) 2023-043685580-001   \n",
       "\n",
       "          data_criacao                                         local_fato  \\\n",
       "0  14/06/2022 21:15:32  RUA CECILIA VICTOR, Nº 72 - BAIRRO PIRES - CON...   \n",
       "1  27/08/2022 13:35:02  RUA JOSE DEMETRIO COELHO, Nº 2780 - CIDADE NOV...   \n",
       "2  18/08/2023 17:08:41  CONDOMINIO ESTANCIA DO LAGO, Nº S/N - CARMO DO...   \n",
       "3  23/08/2023 06:06:27  AVENIDA GOVERNADOR MAGALHAES PINTO, Nº S/N - E...   \n",
       "4  17/09/2023 19:06:09                    RODOVIA BR 354, Km 410 - BAMBUI   \n",
       "\n",
       "    latitude  longitude                                           natureza  \\\n",
       "0 -20.437388 -43.846586  S04012 - BUSCA E SALVAMENTO EM LOCAL DE DIFICI...   \n",
       "1 -20.200915 -44.753439  S04007 - BUSCA E SALVAMENTO DE PESSOA PERDIDA ...   \n",
       "2 -20.252825 -44.730712  S02003 - AFOGAMENTO EM LAGO / LAGOA / REPRESA ...   \n",
       "3 -20.106671 -44.843654  S02006 - BUSCA E RECUPERACAO DE CADAVER SUBMER...   \n",
       "4 -19.962090 -45.959278  S02006 - BUSCA E RECUPERACAO DE CADAVER SUBMER...   \n",
       "\n",
       "                   unidade_responsavel  \\\n",
       "0  2CIA IND/2CIA/1PEL/PA BM(CONGONHAS)   \n",
       "1                      10BBM/1CIA/4PEL   \n",
       "2                      10BBM/1CIA/2PEL   \n",
       "3                      10BBM/1CIA/2PEL   \n",
       "4         10BBM/4CIA/1PEL/PA BM(ARCOS)   \n",
       "\n",
       "                                 recursos_empenhados alerta destaque  \\\n",
       "0                                           ASL00082    Não      Não   \n",
       "1  ACA00571 / ACA00571 / TAN / VSP10 / APP00979 /...    Não      Não   \n",
       "2                                           REF11007    Não      Não   \n",
       "3                      ACA00571 / ASL00814 / UR00560    Não      Não   \n",
       "4                                           ASL02409    Não      Não   \n",
       "\n",
       "  envolve_autoridade     tipo_classificacao      situacao  \\\n",
       "0                Não  BOLETIM DE OCORRENCIA  Classificada   \n",
       "1                Não  BOLETIM DE OCORRENCIA  Classificada   \n",
       "2                Não  BOLETIM DE OCORRENCIA  Classificada   \n",
       "3                Não  BOLETIM DE OCORRENCIA  Classificada   \n",
       "4                Não  BOLETIM DE OCORRENCIA  Classificada   \n",
       "\n",
       "   data_situacao_atual             evento_associado  \\\n",
       "0  16/06/2022 13:02:39                          Não   \n",
       "1  31/08/2022 05:56:32                          Não   \n",
       "2  19/08/2023 07:40:30  OPERAÇÃO GUARDIÕES DO BIOMA   \n",
       "3  23/08/2023 14:52:51                          Não   \n",
       "4  18/09/2023 08:51:47                          Não   \n",
       "\n",
       "                                            Natureza Natureza2  \n",
       "0  S04012 - BUSCA E SALVAMENTO EM LOCAL DE DIFICI...    S04012  \n",
       "1     S04007 - BUSCA E SALVAMENTO DE PESSOA PERDIDA        NaN  \n",
       "2                       S02003 - AFOGAMENTO EM LAGO        NaN  \n",
       "3  S02006 - BUSCA E RECUPERACAO DE CADAVER SUBMERSO     S02006  \n",
       "4  S02006 - BUSCA E RECUPERACAO DE CADAVER SUBMERSO     S02006  "
      ]
     },
     "execution_count": 98,
     "metadata": {},
     "output_type": "execute_result"
    }
   ],
   "source": [
    "# Criar a coluna 'Natureza'\n",
    "# Criar a coluna 'Natureza' com a regex ajustada\n",
    "df[\"Natureza\"] = df[\"natureza\"].str.extract(r\"^(.\\d{5} - [A-Z ]+)\")\n",
    "\n",
    "df.head()"
   ]
  },
  {
   "cell_type": "code",
   "execution_count": 61,
   "metadata": {},
   "outputs": [
    {
     "data": {
      "text/html": [
       "<div>\n",
       "<style scoped>\n",
       "    .dataframe tbody tr th:only-of-type {\n",
       "        vertical-align: middle;\n",
       "    }\n",
       "\n",
       "    .dataframe tbody tr th {\n",
       "        vertical-align: top;\n",
       "    }\n",
       "\n",
       "    .dataframe thead th {\n",
       "        text-align: right;\n",
       "    }\n",
       "</style>\n",
       "<table border=\"1\" class=\"dataframe\">\n",
       "  <thead>\n",
       "    <tr style=\"text-align: right;\">\n",
       "      <th></th>\n",
       "      <th>numero_chamada</th>\n",
       "      <th>numero_reds</th>\n",
       "      <th>local_fato</th>\n",
       "      <th>latitude</th>\n",
       "      <th>longitude</th>\n",
       "      <th>natureza</th>\n",
       "      <th>unidade_responsavel</th>\n",
       "      <th>recursos_empenhados</th>\n",
       "      <th>alerta</th>\n",
       "      <th>destaque</th>\n",
       "      <th>envolve_autoridade</th>\n",
       "      <th>tipo_classificacao</th>\n",
       "      <th>situacao</th>\n",
       "      <th>data_situacao_atual</th>\n",
       "      <th>evento_associado</th>\n",
       "      <th>data</th>\n",
       "      <th>hora</th>\n",
       "    </tr>\n",
       "  </thead>\n",
       "  <tbody>\n",
       "    <tr>\n",
       "      <th>0</th>\n",
       "      <td>2022-22621198-6</td>\n",
       "      <td>(BM) 2022-025580093-001</td>\n",
       "      <td>RUA CECILIA VICTOR, Nº 72 - BAIRRO PIRES - CON...</td>\n",
       "      <td>-20.437388</td>\n",
       "      <td>-43.846586</td>\n",
       "      <td>S04012 - BUSCA E SALVAMENTO EM LOCAL DE DIFICI...</td>\n",
       "      <td>2CIA IND/2CIA/1PEL/PA BM(CONGONHAS)</td>\n",
       "      <td>ASL00082</td>\n",
       "      <td>Não</td>\n",
       "      <td>Não</td>\n",
       "      <td>Não</td>\n",
       "      <td>BOLETIM DE OCORRENCIA</td>\n",
       "      <td>Classificada</td>\n",
       "      <td>16/06/2022 13:02:39</td>\n",
       "      <td>Não</td>\n",
       "      <td>14/06/2022</td>\n",
       "      <td>21:15</td>\n",
       "    </tr>\n",
       "    <tr>\n",
       "      <th>1</th>\n",
       "      <td>2022-23735040-5</td>\n",
       "      <td>(BM) 2022-037444211-009 / (PM) 2022-037444211-008</td>\n",
       "      <td>RUA JOSE DEMETRIO COELHO, Nº 2780 - CIDADE NOV...</td>\n",
       "      <td>-20.200915</td>\n",
       "      <td>-44.753439</td>\n",
       "      <td>S04007 - BUSCA E SALVAMENTO DE PESSOA PERDIDA ...</td>\n",
       "      <td>10BBM/1CIA/4PEL</td>\n",
       "      <td>ACA00571 / ACA00571 / TAN / VSP10 / APP00979 /...</td>\n",
       "      <td>Não</td>\n",
       "      <td>Não</td>\n",
       "      <td>Não</td>\n",
       "      <td>BOLETIM DE OCORRENCIA</td>\n",
       "      <td>Classificada</td>\n",
       "      <td>31/08/2022 05:56:32</td>\n",
       "      <td>Não</td>\n",
       "      <td>27/08/2022</td>\n",
       "      <td>13:35</td>\n",
       "    </tr>\n",
       "  </tbody>\n",
       "</table>\n",
       "</div>"
      ],
      "text/plain": [
       "    numero_chamada                                        numero_reds  \\\n",
       "0  2022-22621198-6                            (BM) 2022-025580093-001   \n",
       "1  2022-23735040-5  (BM) 2022-037444211-009 / (PM) 2022-037444211-008   \n",
       "\n",
       "                                          local_fato   latitude  longitude  \\\n",
       "0  RUA CECILIA VICTOR, Nº 72 - BAIRRO PIRES - CON... -20.437388 -43.846586   \n",
       "1  RUA JOSE DEMETRIO COELHO, Nº 2780 - CIDADE NOV... -20.200915 -44.753439   \n",
       "\n",
       "                                            natureza  \\\n",
       "0  S04012 - BUSCA E SALVAMENTO EM LOCAL DE DIFICI...   \n",
       "1  S04007 - BUSCA E SALVAMENTO DE PESSOA PERDIDA ...   \n",
       "\n",
       "                   unidade_responsavel  \\\n",
       "0  2CIA IND/2CIA/1PEL/PA BM(CONGONHAS)   \n",
       "1                      10BBM/1CIA/4PEL   \n",
       "\n",
       "                                 recursos_empenhados alerta destaque  \\\n",
       "0                                           ASL00082    Não      Não   \n",
       "1  ACA00571 / ACA00571 / TAN / VSP10 / APP00979 /...    Não      Não   \n",
       "\n",
       "  envolve_autoridade     tipo_classificacao      situacao  \\\n",
       "0                Não  BOLETIM DE OCORRENCIA  Classificada   \n",
       "1                Não  BOLETIM DE OCORRENCIA  Classificada   \n",
       "\n",
       "   data_situacao_atual evento_associado        data   hora  \n",
       "0  16/06/2022 13:02:39              Não  14/06/2022  21:15  \n",
       "1  31/08/2022 05:56:32              Não  27/08/2022  13:35  "
      ]
     },
     "execution_count": 61,
     "metadata": {},
     "output_type": "execute_result"
    }
   ],
   "source": [
    "# Cria as colunas data e hora e remove a coluna data_criacao\n",
    "df[\"data\"] = pd.to_datetime(df[\"data_criacao\"], format=\"%d/%m/%Y %H:%M:%S\").dt.strftime(\"%d/%m/%Y\")\n",
    "df[\"hora\"] = pd.to_datetime(df[\"data_criacao\"], format=\"%d/%m/%Y %H:%M:%S\").dt.strftime(\"%H:%M\")\n",
    "df.drop(columns=\"data_criacao\", inplace=True)\n",
    "df.head(2)"
   ]
  },
  {
   "cell_type": "code",
   "execution_count": 62,
   "metadata": {},
   "outputs": [],
   "source": [
    "dados_unicos = df['unidade_responsavel'].unique()"
   ]
  },
  {
   "cell_type": "code",
   "execution_count": 63,
   "metadata": {},
   "outputs": [],
   "source": [
    "# Cria mapa de correspondencia de cob e unidade\n",
    "# Mapas de correspondência\n",
    "cob_map = {\n",
    "    \"1COB\": [\"1BBM\", \"2BBM\", \"3BBM\", \"10BBM\", \"5CIA IND\", \"1COB\"],\n",
    "    \"2COB\": [\"5BBM\", \"8BBM\", \"12BBM\", \"2COB\"],\n",
    "    \"3COB\": [\"4BBM\", \"2CIA IND\", \"3COB\"],\n",
    "    \"4COB\": [\"7BBM\", \"6CIA IND\", \"4COB\"],\n",
    "    \"5COB\": [\"6BBM\", \"11BBM\", \"5COB\"],\n",
    "    \"6COB\": [\"9BBM\", \"1CIA IND\", \"7CIA IND\", \"6COB\"]\n",
    "}\n",
    "\n",
    "unidade_map = {\n",
    "    \"1BBM\": \"1BBM\", \"2BBM\": \"2BBM\", \"3BBM\": \"3BBM\", \"10BBM\": \"10BBM\",\n",
    "    \"5CIA IND\": \"5CIA IND\", \"5BBM\": \"5BBM\", \"8BBM\": \"8BBM\", \"12BBM\": \"12BBM\",\n",
    "    \"4BBM\": \"4BBM\", \"2CIA IND\": \"2CIA IND\", \"7BBM\": \"7BBM\", \"6CIA IND\": \"6CIA IND\",\n",
    "    \"6BBM\": \"6BBM\", \"11BBM\": \"11BBM\", \"5COB\": \"5COB\", \"9BBM\": \"9BBM\",\n",
    "    \"1CIA IND\": \"1CIA IND\", \"7CIA IND\": \"7CIA IND\"\n",
    "}\n",
    "\n",
    "# Função para encontrar COB\n",
    "def find_cob(row):\n",
    "    for cob, valores in cob_map.items():\n",
    "        if any(item in row for item in valores):\n",
    "            return cob\n",
    "    return \"\"\n",
    "\n",
    "# Função para encontrar UNIDADE\n",
    "def find_unidade(row):\n",
    "    for unidade, valor in unidade_map.items():\n",
    "        if unidade in row:\n",
    "            return valor\n",
    "    return \"\""
   ]
  },
  {
   "cell_type": "code",
   "execution_count": 64,
   "metadata": {},
   "outputs": [],
   "source": [
    "# Aplicar as funções para criar as colunas\n",
    "df[\"COB\"] = df[\"unidade_responsavel\"].apply(find_cob)\n",
    "df[\"UNIDADE\"] = df[\"unidade_responsavel\"].apply(find_unidade)"
   ]
  },
  {
   "cell_type": "code",
   "execution_count": 65,
   "metadata": {},
   "outputs": [
    {
     "data": {
      "text/html": [
       "<div>\n",
       "<style scoped>\n",
       "    .dataframe tbody tr th:only-of-type {\n",
       "        vertical-align: middle;\n",
       "    }\n",
       "\n",
       "    .dataframe tbody tr th {\n",
       "        vertical-align: top;\n",
       "    }\n",
       "\n",
       "    .dataframe thead th {\n",
       "        text-align: right;\n",
       "    }\n",
       "</style>\n",
       "<table border=\"1\" class=\"dataframe\">\n",
       "  <thead>\n",
       "    <tr style=\"text-align: right;\">\n",
       "      <th></th>\n",
       "      <th>numero_chamada</th>\n",
       "      <th>numero_reds</th>\n",
       "      <th>local_fato</th>\n",
       "      <th>latitude</th>\n",
       "      <th>longitude</th>\n",
       "      <th>natureza</th>\n",
       "      <th>unidade_responsavel</th>\n",
       "      <th>recursos_empenhados</th>\n",
       "      <th>alerta</th>\n",
       "      <th>destaque</th>\n",
       "      <th>envolve_autoridade</th>\n",
       "      <th>tipo_classificacao</th>\n",
       "      <th>situacao</th>\n",
       "      <th>data_situacao_atual</th>\n",
       "      <th>evento_associado</th>\n",
       "      <th>data</th>\n",
       "      <th>hora</th>\n",
       "      <th>COB</th>\n",
       "      <th>UNIDADE</th>\n",
       "      <th>municipio</th>\n",
       "    </tr>\n",
       "  </thead>\n",
       "  <tbody>\n",
       "    <tr>\n",
       "      <th>0</th>\n",
       "      <td>2022-22621198-6</td>\n",
       "      <td>(BM) 2022-025580093-001</td>\n",
       "      <td>RUA CECILIA VICTOR, Nº 72 - BAIRRO PIRES - CON...</td>\n",
       "      <td>-20.437388</td>\n",
       "      <td>-43.846586</td>\n",
       "      <td>S04012 - BUSCA E SALVAMENTO EM LOCAL DE DIFICI...</td>\n",
       "      <td>2CIA IND/2CIA/1PEL/PA BM(CONGONHAS)</td>\n",
       "      <td>ASL00082</td>\n",
       "      <td>Não</td>\n",
       "      <td>Não</td>\n",
       "      <td>Não</td>\n",
       "      <td>BOLETIM DE OCORRENCIA</td>\n",
       "      <td>Classificada</td>\n",
       "      <td>16/06/2022 13:02:39</td>\n",
       "      <td>Não</td>\n",
       "      <td>14/06/2022</td>\n",
       "      <td>21:15</td>\n",
       "      <td>3COB</td>\n",
       "      <td>2CIA IND</td>\n",
       "      <td>CONGONHAS</td>\n",
       "    </tr>\n",
       "    <tr>\n",
       "      <th>1</th>\n",
       "      <td>2022-23735040-5</td>\n",
       "      <td>(BM) 2022-037444211-009 / (PM) 2022-037444211-008</td>\n",
       "      <td>RUA JOSE DEMETRIO COELHO, Nº 2780 - CIDADE NOV...</td>\n",
       "      <td>-20.200915</td>\n",
       "      <td>-44.753439</td>\n",
       "      <td>S04007 - BUSCA E SALVAMENTO DE PESSOA PERDIDA ...</td>\n",
       "      <td>10BBM/1CIA/4PEL</td>\n",
       "      <td>ACA00571 / ACA00571 / TAN / VSP10 / APP00979 /...</td>\n",
       "      <td>Não</td>\n",
       "      <td>Não</td>\n",
       "      <td>Não</td>\n",
       "      <td>BOLETIM DE OCORRENCIA</td>\n",
       "      <td>Classificada</td>\n",
       "      <td>31/08/2022 05:56:32</td>\n",
       "      <td>Não</td>\n",
       "      <td>27/08/2022</td>\n",
       "      <td>13:35</td>\n",
       "      <td>1COB</td>\n",
       "      <td>10BBM</td>\n",
       "      <td>CARMO DO CAJURU</td>\n",
       "    </tr>\n",
       "    <tr>\n",
       "      <th>2</th>\n",
       "      <td>2023-29279366-2</td>\n",
       "      <td>(BM) 2023-038720052-001</td>\n",
       "      <td>CONDOMINIO ESTANCIA DO LAGO, Nº S/N - CARMO DO...</td>\n",
       "      <td>-20.252825</td>\n",
       "      <td>-44.730712</td>\n",
       "      <td>S02003 - AFOGAMENTO EM LAGO / LAGOA / REPRESA ...</td>\n",
       "      <td>10BBM/1CIA/2PEL</td>\n",
       "      <td>REF11007</td>\n",
       "      <td>Não</td>\n",
       "      <td>Não</td>\n",
       "      <td>Não</td>\n",
       "      <td>BOLETIM DE OCORRENCIA</td>\n",
       "      <td>Classificada</td>\n",
       "      <td>19/08/2023 07:40:30</td>\n",
       "      <td>OPERAÇÃO GUARDIÕES DO BIOMA</td>\n",
       "      <td>18/08/2023</td>\n",
       "      <td>17:08</td>\n",
       "      <td>1COB</td>\n",
       "      <td>10BBM</td>\n",
       "      <td>CARMO DO CAJURU</td>\n",
       "    </tr>\n",
       "    <tr>\n",
       "      <th>3</th>\n",
       "      <td>2023-29349678-3</td>\n",
       "      <td>(BM) 2023-039436473-001 / (PM) 2023-039436473-003</td>\n",
       "      <td>AVENIDA GOVERNADOR MAGALHAES PINTO, Nº S/N - E...</td>\n",
       "      <td>-20.106671</td>\n",
       "      <td>-44.843654</td>\n",
       "      <td>S02006 - BUSCA E RECUPERACAO DE CADAVER SUBMER...</td>\n",
       "      <td>10BBM/1CIA/2PEL</td>\n",
       "      <td>ACA00571 / ASL00814 / UR00560</td>\n",
       "      <td>Não</td>\n",
       "      <td>Não</td>\n",
       "      <td>Não</td>\n",
       "      <td>BOLETIM DE OCORRENCIA</td>\n",
       "      <td>Classificada</td>\n",
       "      <td>23/08/2023 14:52:51</td>\n",
       "      <td>Não</td>\n",
       "      <td>23/08/2023</td>\n",
       "      <td>06:06</td>\n",
       "      <td>1COB</td>\n",
       "      <td>10BBM</td>\n",
       "      <td>DIVINOPOLIS</td>\n",
       "    </tr>\n",
       "    <tr>\n",
       "      <th>4</th>\n",
       "      <td>2023-29753799-0</td>\n",
       "      <td>(BM) 2023-043685580-001</td>\n",
       "      <td>RODOVIA BR 354, Km 410 - BAMBUI</td>\n",
       "      <td>-19.962090</td>\n",
       "      <td>-45.959278</td>\n",
       "      <td>S02006 - BUSCA E RECUPERACAO DE CADAVER SUBMER...</td>\n",
       "      <td>10BBM/4CIA/1PEL/PA BM(ARCOS)</td>\n",
       "      <td>ASL02409</td>\n",
       "      <td>Não</td>\n",
       "      <td>Não</td>\n",
       "      <td>Não</td>\n",
       "      <td>BOLETIM DE OCORRENCIA</td>\n",
       "      <td>Classificada</td>\n",
       "      <td>18/09/2023 08:51:47</td>\n",
       "      <td>Não</td>\n",
       "      <td>17/09/2023</td>\n",
       "      <td>19:06</td>\n",
       "      <td>1COB</td>\n",
       "      <td>10BBM</td>\n",
       "      <td>BAMBUI</td>\n",
       "    </tr>\n",
       "  </tbody>\n",
       "</table>\n",
       "</div>"
      ],
      "text/plain": [
       "    numero_chamada                                        numero_reds  \\\n",
       "0  2022-22621198-6                            (BM) 2022-025580093-001   \n",
       "1  2022-23735040-5  (BM) 2022-037444211-009 / (PM) 2022-037444211-008   \n",
       "2  2023-29279366-2                            (BM) 2023-038720052-001   \n",
       "3  2023-29349678-3  (BM) 2023-039436473-001 / (PM) 2023-039436473-003   \n",
       "4  2023-29753799-0                            (BM) 2023-043685580-001   \n",
       "\n",
       "                                          local_fato   latitude  longitude  \\\n",
       "0  RUA CECILIA VICTOR, Nº 72 - BAIRRO PIRES - CON... -20.437388 -43.846586   \n",
       "1  RUA JOSE DEMETRIO COELHO, Nº 2780 - CIDADE NOV... -20.200915 -44.753439   \n",
       "2  CONDOMINIO ESTANCIA DO LAGO, Nº S/N - CARMO DO... -20.252825 -44.730712   \n",
       "3  AVENIDA GOVERNADOR MAGALHAES PINTO, Nº S/N - E... -20.106671 -44.843654   \n",
       "4                    RODOVIA BR 354, Km 410 - BAMBUI -19.962090 -45.959278   \n",
       "\n",
       "                                            natureza  \\\n",
       "0  S04012 - BUSCA E SALVAMENTO EM LOCAL DE DIFICI...   \n",
       "1  S04007 - BUSCA E SALVAMENTO DE PESSOA PERDIDA ...   \n",
       "2  S02003 - AFOGAMENTO EM LAGO / LAGOA / REPRESA ...   \n",
       "3  S02006 - BUSCA E RECUPERACAO DE CADAVER SUBMER...   \n",
       "4  S02006 - BUSCA E RECUPERACAO DE CADAVER SUBMER...   \n",
       "\n",
       "                   unidade_responsavel  \\\n",
       "0  2CIA IND/2CIA/1PEL/PA BM(CONGONHAS)   \n",
       "1                      10BBM/1CIA/4PEL   \n",
       "2                      10BBM/1CIA/2PEL   \n",
       "3                      10BBM/1CIA/2PEL   \n",
       "4         10BBM/4CIA/1PEL/PA BM(ARCOS)   \n",
       "\n",
       "                                 recursos_empenhados alerta destaque  \\\n",
       "0                                           ASL00082    Não      Não   \n",
       "1  ACA00571 / ACA00571 / TAN / VSP10 / APP00979 /...    Não      Não   \n",
       "2                                           REF11007    Não      Não   \n",
       "3                      ACA00571 / ASL00814 / UR00560    Não      Não   \n",
       "4                                           ASL02409    Não      Não   \n",
       "\n",
       "  envolve_autoridade     tipo_classificacao      situacao  \\\n",
       "0                Não  BOLETIM DE OCORRENCIA  Classificada   \n",
       "1                Não  BOLETIM DE OCORRENCIA  Classificada   \n",
       "2                Não  BOLETIM DE OCORRENCIA  Classificada   \n",
       "3                Não  BOLETIM DE OCORRENCIA  Classificada   \n",
       "4                Não  BOLETIM DE OCORRENCIA  Classificada   \n",
       "\n",
       "   data_situacao_atual             evento_associado        data   hora   COB  \\\n",
       "0  16/06/2022 13:02:39                          Não  14/06/2022  21:15  3COB   \n",
       "1  31/08/2022 05:56:32                          Não  27/08/2022  13:35  1COB   \n",
       "2  19/08/2023 07:40:30  OPERAÇÃO GUARDIÕES DO BIOMA  18/08/2023  17:08  1COB   \n",
       "3  23/08/2023 14:52:51                          Não  23/08/2023  06:06  1COB   \n",
       "4  18/09/2023 08:51:47                          Não  17/09/2023  19:06  1COB   \n",
       "\n",
       "    UNIDADE        municipio  \n",
       "0  2CIA IND        CONGONHAS  \n",
       "1     10BBM  CARMO DO CAJURU  \n",
       "2     10BBM  CARMO DO CAJURU  \n",
       "3     10BBM      DIVINOPOLIS  \n",
       "4     10BBM           BAMBUI  "
      ]
     },
     "execution_count": 65,
     "metadata": {},
     "output_type": "execute_result"
    }
   ],
   "source": [
    "# Extrair o município\n",
    "df[\"municipio\"] = df[\"local_fato\"].str.split(\" - \").str[-1]\n",
    "df.head()"
   ]
  },
  {
   "cell_type": "code",
   "execution_count": 66,
   "metadata": {},
   "outputs": [],
   "source": [
    "# Reestruturação de natureza e prioridade\n",
    "# Criar a coluna 'Natureza'\n",
    "df[\"Natureza\"] = df[\"natureza\"].str.extract(r\"^(.\\d{5})\")\n",
    "\n",
    "# Criar a coluna 'Prioridade'\n",
    "df[\"Prioridade\"] = df[\"natureza\"].str.extract(r\"Prioridade: (\\d)\")\n",
    "\n",
    "# Remover a coluna original 'natureza'\n",
    "df.drop(columns=[\"natureza\"], inplace=True)"
   ]
  },
  {
   "cell_type": "code",
   "execution_count": 67,
   "metadata": {},
   "outputs": [
    {
     "data": {
      "text/plain": [
       "array(['S04012', 'S04007', 'S02003', 'S02006', 'S06011', 'P02002',\n",
       "       'R03007', 'S06007', 'R05002', 'S06008', 'S02002', 'S04006',\n",
       "       'S06010', 'R05999', 'P02007', 'P02004', 'R01999', 'R05004',\n",
       "       'P02005', 'R01002'], dtype=object)"
      ]
     },
     "execution_count": 67,
     "metadata": {},
     "output_type": "execute_result"
    }
   ],
   "source": [
    "df['Natureza'].unique()"
   ]
  },
  {
   "cell_type": "code",
   "execution_count": 68,
   "metadata": {},
   "outputs": [
    {
     "data": {
      "text/html": [
       "<div>\n",
       "<style scoped>\n",
       "    .dataframe tbody tr th:only-of-type {\n",
       "        vertical-align: middle;\n",
       "    }\n",
       "\n",
       "    .dataframe tbody tr th {\n",
       "        vertical-align: top;\n",
       "    }\n",
       "\n",
       "    .dataframe thead th {\n",
       "        text-align: right;\n",
       "    }\n",
       "</style>\n",
       "<table border=\"1\" class=\"dataframe\">\n",
       "  <thead>\n",
       "    <tr style=\"text-align: right;\">\n",
       "      <th></th>\n",
       "      <th>numero_chamada</th>\n",
       "      <th>numero_reds</th>\n",
       "      <th>local_fato</th>\n",
       "      <th>latitude</th>\n",
       "      <th>longitude</th>\n",
       "      <th>recursos_empenhados</th>\n",
       "      <th>tipo_classificacao</th>\n",
       "      <th>evento_associado</th>\n",
       "      <th>data</th>\n",
       "      <th>hora</th>\n",
       "      <th>COB</th>\n",
       "      <th>UNIDADE</th>\n",
       "      <th>municipio</th>\n",
       "      <th>Natureza</th>\n",
       "      <th>Prioridade</th>\n",
       "    </tr>\n",
       "  </thead>\n",
       "  <tbody>\n",
       "    <tr>\n",
       "      <th>0</th>\n",
       "      <td>2022-22621198-6</td>\n",
       "      <td>(BM) 2022-025580093-001</td>\n",
       "      <td>RUA CECILIA VICTOR, Nº 72 - BAIRRO PIRES - CON...</td>\n",
       "      <td>-20.437388</td>\n",
       "      <td>-43.846586</td>\n",
       "      <td>ASL00082</td>\n",
       "      <td>BOLETIM DE OCORRENCIA</td>\n",
       "      <td>Não</td>\n",
       "      <td>14/06/2022</td>\n",
       "      <td>21:15</td>\n",
       "      <td>3COB</td>\n",
       "      <td>2CIA IND</td>\n",
       "      <td>CONGONHAS</td>\n",
       "      <td>S04012</td>\n",
       "      <td>1</td>\n",
       "    </tr>\n",
       "    <tr>\n",
       "      <th>1</th>\n",
       "      <td>2022-23735040-5</td>\n",
       "      <td>(BM) 2022-037444211-009 / (PM) 2022-037444211-008</td>\n",
       "      <td>RUA JOSE DEMETRIO COELHO, Nº 2780 - CIDADE NOV...</td>\n",
       "      <td>-20.200915</td>\n",
       "      <td>-44.753439</td>\n",
       "      <td>ACA00571 / ACA00571 / TAN / VSP10 / APP00979 /...</td>\n",
       "      <td>BOLETIM DE OCORRENCIA</td>\n",
       "      <td>Não</td>\n",
       "      <td>27/08/2022</td>\n",
       "      <td>13:35</td>\n",
       "      <td>1COB</td>\n",
       "      <td>10BBM</td>\n",
       "      <td>CARMO DO CAJURU</td>\n",
       "      <td>S04007</td>\n",
       "      <td>1</td>\n",
       "    </tr>\n",
       "    <tr>\n",
       "      <th>2</th>\n",
       "      <td>2023-29279366-2</td>\n",
       "      <td>(BM) 2023-038720052-001</td>\n",
       "      <td>CONDOMINIO ESTANCIA DO LAGO, Nº S/N - CARMO DO...</td>\n",
       "      <td>-20.252825</td>\n",
       "      <td>-44.730712</td>\n",
       "      <td>REF11007</td>\n",
       "      <td>BOLETIM DE OCORRENCIA</td>\n",
       "      <td>OPERAÇÃO GUARDIÕES DO BIOMA</td>\n",
       "      <td>18/08/2023</td>\n",
       "      <td>17:08</td>\n",
       "      <td>1COB</td>\n",
       "      <td>10BBM</td>\n",
       "      <td>CARMO DO CAJURU</td>\n",
       "      <td>S02003</td>\n",
       "      <td>1</td>\n",
       "    </tr>\n",
       "    <tr>\n",
       "      <th>3</th>\n",
       "      <td>2023-29349678-3</td>\n",
       "      <td>(BM) 2023-039436473-001 / (PM) 2023-039436473-003</td>\n",
       "      <td>AVENIDA GOVERNADOR MAGALHAES PINTO, Nº S/N - E...</td>\n",
       "      <td>-20.106671</td>\n",
       "      <td>-44.843654</td>\n",
       "      <td>ACA00571 / ASL00814 / UR00560</td>\n",
       "      <td>BOLETIM DE OCORRENCIA</td>\n",
       "      <td>Não</td>\n",
       "      <td>23/08/2023</td>\n",
       "      <td>06:06</td>\n",
       "      <td>1COB</td>\n",
       "      <td>10BBM</td>\n",
       "      <td>DIVINOPOLIS</td>\n",
       "      <td>S02006</td>\n",
       "      <td>2</td>\n",
       "    </tr>\n",
       "    <tr>\n",
       "      <th>4</th>\n",
       "      <td>2023-29753799-0</td>\n",
       "      <td>(BM) 2023-043685580-001</td>\n",
       "      <td>RODOVIA BR 354, Km 410 - BAMBUI</td>\n",
       "      <td>-19.962090</td>\n",
       "      <td>-45.959278</td>\n",
       "      <td>ASL02409</td>\n",
       "      <td>BOLETIM DE OCORRENCIA</td>\n",
       "      <td>Não</td>\n",
       "      <td>17/09/2023</td>\n",
       "      <td>19:06</td>\n",
       "      <td>1COB</td>\n",
       "      <td>10BBM</td>\n",
       "      <td>BAMBUI</td>\n",
       "      <td>S02006</td>\n",
       "      <td>2</td>\n",
       "    </tr>\n",
       "  </tbody>\n",
       "</table>\n",
       "</div>"
      ],
      "text/plain": [
       "    numero_chamada                                        numero_reds  \\\n",
       "0  2022-22621198-6                            (BM) 2022-025580093-001   \n",
       "1  2022-23735040-5  (BM) 2022-037444211-009 / (PM) 2022-037444211-008   \n",
       "2  2023-29279366-2                            (BM) 2023-038720052-001   \n",
       "3  2023-29349678-3  (BM) 2023-039436473-001 / (PM) 2023-039436473-003   \n",
       "4  2023-29753799-0                            (BM) 2023-043685580-001   \n",
       "\n",
       "                                          local_fato   latitude  longitude  \\\n",
       "0  RUA CECILIA VICTOR, Nº 72 - BAIRRO PIRES - CON... -20.437388 -43.846586   \n",
       "1  RUA JOSE DEMETRIO COELHO, Nº 2780 - CIDADE NOV... -20.200915 -44.753439   \n",
       "2  CONDOMINIO ESTANCIA DO LAGO, Nº S/N - CARMO DO... -20.252825 -44.730712   \n",
       "3  AVENIDA GOVERNADOR MAGALHAES PINTO, Nº S/N - E... -20.106671 -44.843654   \n",
       "4                    RODOVIA BR 354, Km 410 - BAMBUI -19.962090 -45.959278   \n",
       "\n",
       "                                 recursos_empenhados     tipo_classificacao  \\\n",
       "0                                           ASL00082  BOLETIM DE OCORRENCIA   \n",
       "1  ACA00571 / ACA00571 / TAN / VSP10 / APP00979 /...  BOLETIM DE OCORRENCIA   \n",
       "2                                           REF11007  BOLETIM DE OCORRENCIA   \n",
       "3                      ACA00571 / ASL00814 / UR00560  BOLETIM DE OCORRENCIA   \n",
       "4                                           ASL02409  BOLETIM DE OCORRENCIA   \n",
       "\n",
       "              evento_associado        data   hora   COB   UNIDADE  \\\n",
       "0                          Não  14/06/2022  21:15  3COB  2CIA IND   \n",
       "1                          Não  27/08/2022  13:35  1COB     10BBM   \n",
       "2  OPERAÇÃO GUARDIÕES DO BIOMA  18/08/2023  17:08  1COB     10BBM   \n",
       "3                          Não  23/08/2023  06:06  1COB     10BBM   \n",
       "4                          Não  17/09/2023  19:06  1COB     10BBM   \n",
       "\n",
       "         municipio Natureza Prioridade  \n",
       "0        CONGONHAS   S04012          1  \n",
       "1  CARMO DO CAJURU   S04007          1  \n",
       "2  CARMO DO CAJURU   S02003          1  \n",
       "3      DIVINOPOLIS   S02006          2  \n",
       "4           BAMBUI   S02006          2  "
      ]
     },
     "execution_count": 68,
     "metadata": {},
     "output_type": "execute_result"
    }
   ],
   "source": [
    "# Remover as colunas indesejadas\n",
    "df = df.drop(columns=[\"unidade_responsavel\", \"alerta\", \"destaque\", \"envolve_autoridade\", \"situacao\", \"data_situacao_atual\"])\n",
    "df.head()"
   ]
  },
  {
   "cell_type": "code",
   "execution_count": 52,
   "metadata": {},
   "outputs": [
    {
     "data": {
      "text/html": [
       "<div>\n",
       "<style scoped>\n",
       "    .dataframe tbody tr th:only-of-type {\n",
       "        vertical-align: middle;\n",
       "    }\n",
       "\n",
       "    .dataframe tbody tr th {\n",
       "        vertical-align: top;\n",
       "    }\n",
       "\n",
       "    .dataframe thead th {\n",
       "        text-align: right;\n",
       "    }\n",
       "</style>\n",
       "<table border=\"1\" class=\"dataframe\">\n",
       "  <thead>\n",
       "    <tr style=\"text-align: right;\">\n",
       "      <th></th>\n",
       "      <th>numero_chamada</th>\n",
       "      <th>numero_reds</th>\n",
       "      <th>local_fato</th>\n",
       "      <th>latitude</th>\n",
       "      <th>longitude</th>\n",
       "      <th>recursos_empenhados</th>\n",
       "      <th>tipo_classificacao</th>\n",
       "      <th>evento_associado</th>\n",
       "      <th>data</th>\n",
       "      <th>hora</th>\n",
       "      <th>COB</th>\n",
       "      <th>UNIDADE</th>\n",
       "      <th>municipio</th>\n",
       "      <th>Natureza</th>\n",
       "      <th>Prioridade</th>\n",
       "    </tr>\n",
       "  </thead>\n",
       "  <tbody>\n",
       "    <tr>\n",
       "      <th>0</th>\n",
       "      <td>2022-22621198-6</td>\n",
       "      <td>(BM) 2022-025580093-001</td>\n",
       "      <td>RUA CECILIA VICTOR, Nº 72 - BAIRRO PIRES - CON...</td>\n",
       "      <td>-20.437388</td>\n",
       "      <td>-43.846586</td>\n",
       "      <td>ASL00082</td>\n",
       "      <td>BOLETIM DE OCORRENCIA</td>\n",
       "      <td>Não</td>\n",
       "      <td>14/06/2022</td>\n",
       "      <td>21:15</td>\n",
       "      <td>3COB</td>\n",
       "      <td>2CIA IND</td>\n",
       "      <td>CONGONHAS</td>\n",
       "      <td>S04012</td>\n",
       "      <td>1</td>\n",
       "    </tr>\n",
       "    <tr>\n",
       "      <th>1</th>\n",
       "      <td>2022-23735040-5</td>\n",
       "      <td>(BM) 2022-037444211-009 / (PM) 2022-037444211-008</td>\n",
       "      <td>RUA JOSE DEMETRIO COELHO, Nº 2780 - CIDADE NOV...</td>\n",
       "      <td>-20.200915</td>\n",
       "      <td>-44.753439</td>\n",
       "      <td>ACA00571 / ACA00571 / TAN / VSP10 / APP00979 /...</td>\n",
       "      <td>BOLETIM DE OCORRENCIA</td>\n",
       "      <td>Não</td>\n",
       "      <td>27/08/2022</td>\n",
       "      <td>13:35</td>\n",
       "      <td>1COB</td>\n",
       "      <td>10BBM</td>\n",
       "      <td>CARMO DO CAJURU</td>\n",
       "      <td>S04007</td>\n",
       "      <td>1</td>\n",
       "    </tr>\n",
       "    <tr>\n",
       "      <th>2</th>\n",
       "      <td>2023-29279366-2</td>\n",
       "      <td>(BM) 2023-038720052-001</td>\n",
       "      <td>CONDOMINIO ESTANCIA DO LAGO, Nº S/N - CARMO DO...</td>\n",
       "      <td>-20.252825</td>\n",
       "      <td>-44.730712</td>\n",
       "      <td>REF11007</td>\n",
       "      <td>BOLETIM DE OCORRENCIA</td>\n",
       "      <td>OPERAÇÃO GUARDIÕES DO BIOMA</td>\n",
       "      <td>18/08/2023</td>\n",
       "      <td>17:08</td>\n",
       "      <td>1COB</td>\n",
       "      <td>10BBM</td>\n",
       "      <td>CARMO DO CAJURU</td>\n",
       "      <td>S02003</td>\n",
       "      <td>1</td>\n",
       "    </tr>\n",
       "    <tr>\n",
       "      <th>3</th>\n",
       "      <td>2023-29349678-3</td>\n",
       "      <td>(BM) 2023-039436473-001 / (PM) 2023-039436473-003</td>\n",
       "      <td>AVENIDA GOVERNADOR MAGALHAES PINTO, Nº S/N - E...</td>\n",
       "      <td>-20.106671</td>\n",
       "      <td>-44.843654</td>\n",
       "      <td>ACA00571 / ASL00814 / UR00560</td>\n",
       "      <td>BOLETIM DE OCORRENCIA</td>\n",
       "      <td>Não</td>\n",
       "      <td>23/08/2023</td>\n",
       "      <td>06:06</td>\n",
       "      <td>1COB</td>\n",
       "      <td>10BBM</td>\n",
       "      <td>DIVINOPOLIS</td>\n",
       "      <td>S02006</td>\n",
       "      <td>2</td>\n",
       "    </tr>\n",
       "    <tr>\n",
       "      <th>4</th>\n",
       "      <td>2023-29753799-0</td>\n",
       "      <td>(BM) 2023-043685580-001</td>\n",
       "      <td>RODOVIA BR 354, Km 410 - BAMBUI</td>\n",
       "      <td>-19.962090</td>\n",
       "      <td>-45.959278</td>\n",
       "      <td>ASL02409</td>\n",
       "      <td>BOLETIM DE OCORRENCIA</td>\n",
       "      <td>Não</td>\n",
       "      <td>17/09/2023</td>\n",
       "      <td>19:06</td>\n",
       "      <td>1COB</td>\n",
       "      <td>10BBM</td>\n",
       "      <td>BAMBUI</td>\n",
       "      <td>S02006</td>\n",
       "      <td>2</td>\n",
       "    </tr>\n",
       "  </tbody>\n",
       "</table>\n",
       "</div>"
      ],
      "text/plain": [
       "    numero_chamada                                        numero_reds  \\\n",
       "0  2022-22621198-6                            (BM) 2022-025580093-001   \n",
       "1  2022-23735040-5  (BM) 2022-037444211-009 / (PM) 2022-037444211-008   \n",
       "2  2023-29279366-2                            (BM) 2023-038720052-001   \n",
       "3  2023-29349678-3  (BM) 2023-039436473-001 / (PM) 2023-039436473-003   \n",
       "4  2023-29753799-0                            (BM) 2023-043685580-001   \n",
       "\n",
       "                                          local_fato   latitude  longitude  \\\n",
       "0  RUA CECILIA VICTOR, Nº 72 - BAIRRO PIRES - CON... -20.437388 -43.846586   \n",
       "1  RUA JOSE DEMETRIO COELHO, Nº 2780 - CIDADE NOV... -20.200915 -44.753439   \n",
       "2  CONDOMINIO ESTANCIA DO LAGO, Nº S/N - CARMO DO... -20.252825 -44.730712   \n",
       "3  AVENIDA GOVERNADOR MAGALHAES PINTO, Nº S/N - E... -20.106671 -44.843654   \n",
       "4                    RODOVIA BR 354, Km 410 - BAMBUI -19.962090 -45.959278   \n",
       "\n",
       "                                 recursos_empenhados     tipo_classificacao  \\\n",
       "0                                           ASL00082  BOLETIM DE OCORRENCIA   \n",
       "1  ACA00571 / ACA00571 / TAN / VSP10 / APP00979 /...  BOLETIM DE OCORRENCIA   \n",
       "2                                           REF11007  BOLETIM DE OCORRENCIA   \n",
       "3                      ACA00571 / ASL00814 / UR00560  BOLETIM DE OCORRENCIA   \n",
       "4                                           ASL02409  BOLETIM DE OCORRENCIA   \n",
       "\n",
       "              evento_associado        data   hora   COB   UNIDADE  \\\n",
       "0                          Não  14/06/2022  21:15  3COB  2CIA IND   \n",
       "1                          Não  27/08/2022  13:35  1COB     10BBM   \n",
       "2  OPERAÇÃO GUARDIÕES DO BIOMA  18/08/2023  17:08  1COB     10BBM   \n",
       "3                          Não  23/08/2023  06:06  1COB     10BBM   \n",
       "4                          Não  17/09/2023  19:06  1COB     10BBM   \n",
       "\n",
       "         municipio Natureza Prioridade  \n",
       "0        CONGONHAS   S04012          1  \n",
       "1  CARMO DO CAJURU   S04007          1  \n",
       "2  CARMO DO CAJURU   S02003          1  \n",
       "3      DIVINOPOLIS   S02006          2  \n",
       "4           BAMBUI   S02006          2  "
      ]
     },
     "execution_count": 52,
     "metadata": {},
     "output_type": "execute_result"
    }
   ],
   "source": [
    "df.head()"
   ]
  },
  {
   "cell_type": "code",
   "execution_count": 39,
   "metadata": {},
   "outputs": [
    {
     "name": "stdout",
     "output_type": "stream",
     "text": [
      "<class 'pandas.core.frame.DataFrame'>\n",
      "RangeIndex: 204 entries, 0 to 203\n",
      "Data columns (total 14 columns):\n",
      " #   Column               Non-Null Count  Dtype  \n",
      "---  ------               --------------  -----  \n",
      " 0   numero_chamada       204 non-null    object \n",
      " 1   numero_reds          204 non-null    object \n",
      " 2   local_fato           204 non-null    object \n",
      " 3   latitude             157 non-null    float64\n",
      " 4   longitude            157 non-null    float64\n",
      " 5   natureza             204 non-null    object \n",
      " 6   recursos_empenhados  204 non-null    object \n",
      " 7   tipo_classificacao   204 non-null    object \n",
      " 8   evento_associado     204 non-null    object \n",
      " 9   data                 204 non-null    object \n",
      " 10  hora                 204 non-null    object \n",
      " 11  COB                  204 non-null    object \n",
      " 12  UNIDADE              204 non-null    object \n",
      " 13  municipio            204 non-null    object \n",
      "dtypes: float64(2), object(12)\n",
      "memory usage: 22.4+ KB\n"
     ]
    }
   ],
   "source": [
    "df.info()"
   ]
  },
  {
   "cell_type": "code",
   "execution_count": 69,
   "metadata": {},
   "outputs": [],
   "source": [
    "# Otimização do DataFrame\n",
    "# Converter colunas com valores repetidos para category\n",
    "categorical_columns = [ \"Natureza\", \"Prioridade\", \"tipo_classificacao\", \"COB\", \"UNIDADE\", \"municipio\"]\n",
    "for col in categorical_columns:\n",
    "    df[col] = df[col].astype(\"category\")\n",
    "\n",
    "\n",
    "# Converter latitude e longitude para float32\n",
    "df[\"latitude\"] = df[\"latitude\"].astype(\"float32\")\n",
    "df[\"longitude\"] = df[\"longitude\"].astype(\"float32\")\n",
    "\n",
    "# Converter a coluna data para datetime\n",
    "df[\"data\"] = pd.to_datetime(df[\"data\"], format=\"%d/%m/%Y\")"
   ]
  },
  {
   "cell_type": "code",
   "execution_count": 57,
   "metadata": {},
   "outputs": [
    {
     "data": {
      "text/html": [
       "<div>\n",
       "<style scoped>\n",
       "    .dataframe tbody tr th:only-of-type {\n",
       "        vertical-align: middle;\n",
       "    }\n",
       "\n",
       "    .dataframe tbody tr th {\n",
       "        vertical-align: top;\n",
       "    }\n",
       "\n",
       "    .dataframe thead th {\n",
       "        text-align: right;\n",
       "    }\n",
       "</style>\n",
       "<table border=\"1\" class=\"dataframe\">\n",
       "  <thead>\n",
       "    <tr style=\"text-align: right;\">\n",
       "      <th></th>\n",
       "      <th>numero_chamada</th>\n",
       "      <th>numero_reds</th>\n",
       "      <th>local_fato</th>\n",
       "      <th>latitude</th>\n",
       "      <th>longitude</th>\n",
       "      <th>recursos_empenhados</th>\n",
       "      <th>tipo_classificacao</th>\n",
       "      <th>evento_associado</th>\n",
       "      <th>data</th>\n",
       "      <th>hora</th>\n",
       "      <th>COB</th>\n",
       "      <th>UNIDADE</th>\n",
       "      <th>municipio</th>\n",
       "      <th>Natureza</th>\n",
       "      <th>Prioridade</th>\n",
       "    </tr>\n",
       "  </thead>\n",
       "  <tbody>\n",
       "    <tr>\n",
       "      <th>0</th>\n",
       "      <td>2022-22621198-6</td>\n",
       "      <td>(BM) 2022-025580093-001</td>\n",
       "      <td>RUA CECILIA VICTOR, Nº 72 - BAIRRO PIRES - CON...</td>\n",
       "      <td>-20.437387</td>\n",
       "      <td>-43.846584</td>\n",
       "      <td>ASL00082</td>\n",
       "      <td>BOLETIM DE OCORRENCIA</td>\n",
       "      <td>Não</td>\n",
       "      <td>2022-06-14</td>\n",
       "      <td>21:15</td>\n",
       "      <td>3COB</td>\n",
       "      <td>2CIA IND</td>\n",
       "      <td>CONGONHAS</td>\n",
       "      <td>S04012</td>\n",
       "      <td>1</td>\n",
       "    </tr>\n",
       "    <tr>\n",
       "      <th>1</th>\n",
       "      <td>2022-23735040-5</td>\n",
       "      <td>(BM) 2022-037444211-009 / (PM) 2022-037444211-008</td>\n",
       "      <td>RUA JOSE DEMETRIO COELHO, Nº 2780 - CIDADE NOV...</td>\n",
       "      <td>-20.200914</td>\n",
       "      <td>-44.753441</td>\n",
       "      <td>ACA00571 / ACA00571 / TAN / VSP10 / APP00979 /...</td>\n",
       "      <td>BOLETIM DE OCORRENCIA</td>\n",
       "      <td>Não</td>\n",
       "      <td>2022-08-27</td>\n",
       "      <td>13:35</td>\n",
       "      <td>1COB</td>\n",
       "      <td>10BBM</td>\n",
       "      <td>CARMO DO CAJURU</td>\n",
       "      <td>S04007</td>\n",
       "      <td>1</td>\n",
       "    </tr>\n",
       "    <tr>\n",
       "      <th>2</th>\n",
       "      <td>2023-29279366-2</td>\n",
       "      <td>(BM) 2023-038720052-001</td>\n",
       "      <td>CONDOMINIO ESTANCIA DO LAGO, Nº S/N - CARMO DO...</td>\n",
       "      <td>-20.252825</td>\n",
       "      <td>-44.730713</td>\n",
       "      <td>REF11007</td>\n",
       "      <td>BOLETIM DE OCORRENCIA</td>\n",
       "      <td>OPERAÇÃO GUARDIÕES DO BIOMA</td>\n",
       "      <td>2023-08-18</td>\n",
       "      <td>17:08</td>\n",
       "      <td>1COB</td>\n",
       "      <td>10BBM</td>\n",
       "      <td>CARMO DO CAJURU</td>\n",
       "      <td>S02003</td>\n",
       "      <td>1</td>\n",
       "    </tr>\n",
       "    <tr>\n",
       "      <th>3</th>\n",
       "      <td>2023-29349678-3</td>\n",
       "      <td>(BM) 2023-039436473-001 / (PM) 2023-039436473-003</td>\n",
       "      <td>AVENIDA GOVERNADOR MAGALHAES PINTO, Nº S/N - E...</td>\n",
       "      <td>-20.106670</td>\n",
       "      <td>-44.843655</td>\n",
       "      <td>ACA00571 / ASL00814 / UR00560</td>\n",
       "      <td>BOLETIM DE OCORRENCIA</td>\n",
       "      <td>Não</td>\n",
       "      <td>2023-08-23</td>\n",
       "      <td>06:06</td>\n",
       "      <td>1COB</td>\n",
       "      <td>10BBM</td>\n",
       "      <td>DIVINOPOLIS</td>\n",
       "      <td>S02006</td>\n",
       "      <td>2</td>\n",
       "    </tr>\n",
       "    <tr>\n",
       "      <th>4</th>\n",
       "      <td>2023-29753799-0</td>\n",
       "      <td>(BM) 2023-043685580-001</td>\n",
       "      <td>RODOVIA BR 354, Km 410 - BAMBUI</td>\n",
       "      <td>-19.962090</td>\n",
       "      <td>-45.959278</td>\n",
       "      <td>ASL02409</td>\n",
       "      <td>BOLETIM DE OCORRENCIA</td>\n",
       "      <td>Não</td>\n",
       "      <td>2023-09-17</td>\n",
       "      <td>19:06</td>\n",
       "      <td>1COB</td>\n",
       "      <td>10BBM</td>\n",
       "      <td>BAMBUI</td>\n",
       "      <td>S02006</td>\n",
       "      <td>2</td>\n",
       "    </tr>\n",
       "  </tbody>\n",
       "</table>\n",
       "</div>"
      ],
      "text/plain": [
       "    numero_chamada                                        numero_reds  \\\n",
       "0  2022-22621198-6                            (BM) 2022-025580093-001   \n",
       "1  2022-23735040-5  (BM) 2022-037444211-009 / (PM) 2022-037444211-008   \n",
       "2  2023-29279366-2                            (BM) 2023-038720052-001   \n",
       "3  2023-29349678-3  (BM) 2023-039436473-001 / (PM) 2023-039436473-003   \n",
       "4  2023-29753799-0                            (BM) 2023-043685580-001   \n",
       "\n",
       "                                          local_fato   latitude  longitude  \\\n",
       "0  RUA CECILIA VICTOR, Nº 72 - BAIRRO PIRES - CON... -20.437387 -43.846584   \n",
       "1  RUA JOSE DEMETRIO COELHO, Nº 2780 - CIDADE NOV... -20.200914 -44.753441   \n",
       "2  CONDOMINIO ESTANCIA DO LAGO, Nº S/N - CARMO DO... -20.252825 -44.730713   \n",
       "3  AVENIDA GOVERNADOR MAGALHAES PINTO, Nº S/N - E... -20.106670 -44.843655   \n",
       "4                    RODOVIA BR 354, Km 410 - BAMBUI -19.962090 -45.959278   \n",
       "\n",
       "                                 recursos_empenhados     tipo_classificacao  \\\n",
       "0                                           ASL00082  BOLETIM DE OCORRENCIA   \n",
       "1  ACA00571 / ACA00571 / TAN / VSP10 / APP00979 /...  BOLETIM DE OCORRENCIA   \n",
       "2                                           REF11007  BOLETIM DE OCORRENCIA   \n",
       "3                      ACA00571 / ASL00814 / UR00560  BOLETIM DE OCORRENCIA   \n",
       "4                                           ASL02409  BOLETIM DE OCORRENCIA   \n",
       "\n",
       "              evento_associado       data   hora   COB   UNIDADE  \\\n",
       "0                          Não 2022-06-14  21:15  3COB  2CIA IND   \n",
       "1                          Não 2022-08-27  13:35  1COB     10BBM   \n",
       "2  OPERAÇÃO GUARDIÕES DO BIOMA 2023-08-18  17:08  1COB     10BBM   \n",
       "3                          Não 2023-08-23  06:06  1COB     10BBM   \n",
       "4                          Não 2023-09-17  19:06  1COB     10BBM   \n",
       "\n",
       "         municipio Natureza Prioridade  \n",
       "0        CONGONHAS   S04012          1  \n",
       "1  CARMO DO CAJURU   S04007          1  \n",
       "2  CARMO DO CAJURU   S02003          1  \n",
       "3      DIVINOPOLIS   S02006          2  \n",
       "4           BAMBUI   S02006          2  "
      ]
     },
     "execution_count": 57,
     "metadata": {},
     "output_type": "execute_result"
    }
   ],
   "source": [
    "df.head()"
   ]
  },
  {
   "cell_type": "code",
   "execution_count": 70,
   "metadata": {},
   "outputs": [
    {
     "name": "stdout",
     "output_type": "stream",
     "text": [
      "JSON salvo com sucesso!\n"
     ]
    }
   ],
   "source": [
    "# Salvar como JSON no formato 'records'\n",
    "df.to_json(\"dados.json\", orient=\"records\", indent=4)\n",
    "\n",
    "print(\"JSON salvo com sucesso!\")"
   ]
  },
  {
   "cell_type": "code",
   "execution_count": 71,
   "metadata": {},
   "outputs": [],
   "source": [
    "import plotly.express as px\n",
    "import plotly.graph_objects as go"
   ]
  },
  {
   "cell_type": "code",
   "execution_count": 92,
   "metadata": {},
   "outputs": [
    {
     "data": {
      "text/html": [
       "<div>\n",
       "<style scoped>\n",
       "    .dataframe tbody tr th:only-of-type {\n",
       "        vertical-align: middle;\n",
       "    }\n",
       "\n",
       "    .dataframe tbody tr th {\n",
       "        vertical-align: top;\n",
       "    }\n",
       "\n",
       "    .dataframe thead th {\n",
       "        text-align: right;\n",
       "    }\n",
       "</style>\n",
       "<table border=\"1\" class=\"dataframe\">\n",
       "  <thead>\n",
       "    <tr style=\"text-align: right;\">\n",
       "      <th></th>\n",
       "      <th>numero_chamada</th>\n",
       "      <th>numero_reds</th>\n",
       "      <th>local_fato</th>\n",
       "      <th>latitude</th>\n",
       "      <th>longitude</th>\n",
       "      <th>recursos_empenhados</th>\n",
       "      <th>tipo_classificacao</th>\n",
       "      <th>evento_associado</th>\n",
       "      <th>data</th>\n",
       "      <th>hora</th>\n",
       "      <th>COB</th>\n",
       "      <th>UNIDADE</th>\n",
       "      <th>municipio</th>\n",
       "      <th>Natureza</th>\n",
       "      <th>Prioridade</th>\n",
       "      <th>COB_nome</th>\n",
       "      <th>Prioridade_nome</th>\n",
       "    </tr>\n",
       "  </thead>\n",
       "  <tbody>\n",
       "    <tr>\n",
       "      <th>0</th>\n",
       "      <td>2022-22621198-6</td>\n",
       "      <td>(BM) 2022-025580093-001</td>\n",
       "      <td>RUA CECILIA VICTOR, Nº 72 - BAIRRO PIRES - CON...</td>\n",
       "      <td>-20.437387</td>\n",
       "      <td>-43.846584</td>\n",
       "      <td>ASL00082</td>\n",
       "      <td>BOLETIM DE OCORRENCIA</td>\n",
       "      <td>Não</td>\n",
       "      <td>2022-06-14</td>\n",
       "      <td>21:15</td>\n",
       "      <td>3COB</td>\n",
       "      <td>2CIA IND</td>\n",
       "      <td>CONGONHAS</td>\n",
       "      <td>S04012</td>\n",
       "      <td>1</td>\n",
       "      <td>3ºCOB - Juiz de Fora</td>\n",
       "      <td>Prioridade 1</td>\n",
       "    </tr>\n",
       "    <tr>\n",
       "      <th>1</th>\n",
       "      <td>2022-23735040-5</td>\n",
       "      <td>(BM) 2022-037444211-009 / (PM) 2022-037444211-008</td>\n",
       "      <td>RUA JOSE DEMETRIO COELHO, Nº 2780 - CIDADE NOV...</td>\n",
       "      <td>-20.200914</td>\n",
       "      <td>-44.753441</td>\n",
       "      <td>ACA00571 / ACA00571 / TAN / VSP10 / APP00979 /...</td>\n",
       "      <td>BOLETIM DE OCORRENCIA</td>\n",
       "      <td>Não</td>\n",
       "      <td>2022-08-27</td>\n",
       "      <td>13:35</td>\n",
       "      <td>1COB</td>\n",
       "      <td>10BBM</td>\n",
       "      <td>CARMO DO CAJURU</td>\n",
       "      <td>S04007</td>\n",
       "      <td>1</td>\n",
       "      <td>1ºCOB - RMBH/Divinóplis</td>\n",
       "      <td>Prioridade 1</td>\n",
       "    </tr>\n",
       "    <tr>\n",
       "      <th>2</th>\n",
       "      <td>2023-29279366-2</td>\n",
       "      <td>(BM) 2023-038720052-001</td>\n",
       "      <td>CONDOMINIO ESTANCIA DO LAGO, Nº S/N - CARMO DO...</td>\n",
       "      <td>-20.252825</td>\n",
       "      <td>-44.730713</td>\n",
       "      <td>REF11007</td>\n",
       "      <td>BOLETIM DE OCORRENCIA</td>\n",
       "      <td>OPERAÇÃO GUARDIÕES DO BIOMA</td>\n",
       "      <td>2023-08-18</td>\n",
       "      <td>17:08</td>\n",
       "      <td>1COB</td>\n",
       "      <td>10BBM</td>\n",
       "      <td>CARMO DO CAJURU</td>\n",
       "      <td>S02003</td>\n",
       "      <td>1</td>\n",
       "      <td>1ºCOB - RMBH/Divinóplis</td>\n",
       "      <td>Prioridade 1</td>\n",
       "    </tr>\n",
       "    <tr>\n",
       "      <th>3</th>\n",
       "      <td>2023-29349678-3</td>\n",
       "      <td>(BM) 2023-039436473-001 / (PM) 2023-039436473-003</td>\n",
       "      <td>AVENIDA GOVERNADOR MAGALHAES PINTO, Nº S/N - E...</td>\n",
       "      <td>-20.106670</td>\n",
       "      <td>-44.843655</td>\n",
       "      <td>ACA00571 / ASL00814 / UR00560</td>\n",
       "      <td>BOLETIM DE OCORRENCIA</td>\n",
       "      <td>Não</td>\n",
       "      <td>2023-08-23</td>\n",
       "      <td>06:06</td>\n",
       "      <td>1COB</td>\n",
       "      <td>10BBM</td>\n",
       "      <td>DIVINOPOLIS</td>\n",
       "      <td>S02006</td>\n",
       "      <td>2</td>\n",
       "      <td>1ºCOB - RMBH/Divinóplis</td>\n",
       "      <td>Prioridade 2</td>\n",
       "    </tr>\n",
       "    <tr>\n",
       "      <th>4</th>\n",
       "      <td>2023-29753799-0</td>\n",
       "      <td>(BM) 2023-043685580-001</td>\n",
       "      <td>RODOVIA BR 354, Km 410 - BAMBUI</td>\n",
       "      <td>-19.962090</td>\n",
       "      <td>-45.959278</td>\n",
       "      <td>ASL02409</td>\n",
       "      <td>BOLETIM DE OCORRENCIA</td>\n",
       "      <td>Não</td>\n",
       "      <td>2023-09-17</td>\n",
       "      <td>19:06</td>\n",
       "      <td>1COB</td>\n",
       "      <td>10BBM</td>\n",
       "      <td>BAMBUI</td>\n",
       "      <td>S02006</td>\n",
       "      <td>2</td>\n",
       "      <td>1ºCOB - RMBH/Divinóplis</td>\n",
       "      <td>Prioridade 2</td>\n",
       "    </tr>\n",
       "    <tr>\n",
       "      <th>...</th>\n",
       "      <td>...</td>\n",
       "      <td>...</td>\n",
       "      <td>...</td>\n",
       "      <td>...</td>\n",
       "      <td>...</td>\n",
       "      <td>...</td>\n",
       "      <td>...</td>\n",
       "      <td>...</td>\n",
       "      <td>...</td>\n",
       "      <td>...</td>\n",
       "      <td>...</td>\n",
       "      <td>...</td>\n",
       "      <td>...</td>\n",
       "      <td>...</td>\n",
       "      <td>...</td>\n",
       "      <td>...</td>\n",
       "      <td>...</td>\n",
       "    </tr>\n",
       "    <tr>\n",
       "      <th>199</th>\n",
       "      <td>2025-37235681-5</td>\n",
       "      <td></td>\n",
       "      <td>RUA DANTE ALIGHIERI, Nº 768 - ROSARIO I - SABARA</td>\n",
       "      <td>-19.883966</td>\n",
       "      <td>-43.823536</td>\n",
       "      <td></td>\n",
       "      <td></td>\n",
       "      <td>Não</td>\n",
       "      <td>2025-01-03</td>\n",
       "      <td>13:17</td>\n",
       "      <td>1COB</td>\n",
       "      <td>3BBM</td>\n",
       "      <td>SABARA</td>\n",
       "      <td>P02002</td>\n",
       "      <td>2</td>\n",
       "      <td>1ºCOB - RMBH/Divinóplis</td>\n",
       "      <td>Prioridade 2</td>\n",
       "    </tr>\n",
       "    <tr>\n",
       "      <th>200</th>\n",
       "      <td>2025-37235673-7</td>\n",
       "      <td></td>\n",
       "      <td>BECO IBIA, Nº 4 - SENHOR DOS PASSOS - BELO HOR...</td>\n",
       "      <td>NaN</td>\n",
       "      <td>NaN</td>\n",
       "      <td></td>\n",
       "      <td></td>\n",
       "      <td>Não</td>\n",
       "      <td>2025-01-03</td>\n",
       "      <td>13:18</td>\n",
       "      <td>1COB</td>\n",
       "      <td>1BBM</td>\n",
       "      <td>BELO HORIZONTE</td>\n",
       "      <td>P02002</td>\n",
       "      <td>2</td>\n",
       "      <td>1ºCOB - RMBH/Divinóplis</td>\n",
       "      <td>Prioridade 2</td>\n",
       "    </tr>\n",
       "    <tr>\n",
       "      <th>201</th>\n",
       "      <td>2025-37235741-5</td>\n",
       "      <td>(BM) 2025-000307685-001</td>\n",
       "      <td>RUA VINTE E SEIS, Nº 12 - TROPICAL - CONTAGEM</td>\n",
       "      <td>-19.919586</td>\n",
       "      <td>-44.116089</td>\n",
       "      <td>ABT18879</td>\n",
       "      <td></td>\n",
       "      <td>Não</td>\n",
       "      <td>2025-01-03</td>\n",
       "      <td>13:22</td>\n",
       "      <td>1COB</td>\n",
       "      <td>2BBM</td>\n",
       "      <td>CONTAGEM</td>\n",
       "      <td>R01002</td>\n",
       "      <td>2</td>\n",
       "      <td>1ºCOB - RMBH/Divinóplis</td>\n",
       "      <td>Prioridade 2</td>\n",
       "    </tr>\n",
       "    <tr>\n",
       "      <th>202</th>\n",
       "      <td>2025-37235743-0</td>\n",
       "      <td></td>\n",
       "      <td>AVENIDA FLORESTA, Nº 231 - NOSSA SENHORA APARE...</td>\n",
       "      <td>-19.893593</td>\n",
       "      <td>-44.432941</td>\n",
       "      <td>ASM4879</td>\n",
       "      <td></td>\n",
       "      <td>Não</td>\n",
       "      <td>2025-01-03</td>\n",
       "      <td>13:23</td>\n",
       "      <td>1COB</td>\n",
       "      <td>2BBM</td>\n",
       "      <td>FLORESTAL</td>\n",
       "      <td>P02002</td>\n",
       "      <td>2</td>\n",
       "      <td>1ºCOB - RMBH/Divinóplis</td>\n",
       "      <td>Prioridade 2</td>\n",
       "    </tr>\n",
       "    <tr>\n",
       "      <th>203</th>\n",
       "      <td>2025-37235772-9</td>\n",
       "      <td></td>\n",
       "      <td>A DEFINIR RUA DO RETORNO, Nº S/N - VILA DA LUZ...</td>\n",
       "      <td>NaN</td>\n",
       "      <td>NaN</td>\n",
       "      <td></td>\n",
       "      <td></td>\n",
       "      <td>Não</td>\n",
       "      <td>2025-01-03</td>\n",
       "      <td>13:24</td>\n",
       "      <td>1COB</td>\n",
       "      <td>3BBM</td>\n",
       "      <td>BELO HORIZONTE</td>\n",
       "      <td>P02002</td>\n",
       "      <td>1</td>\n",
       "      <td>1ºCOB - RMBH/Divinóplis</td>\n",
       "      <td>Prioridade 1</td>\n",
       "    </tr>\n",
       "  </tbody>\n",
       "</table>\n",
       "<p>204 rows × 17 columns</p>\n",
       "</div>"
      ],
      "text/plain": [
       "      numero_chamada                                        numero_reds  \\\n",
       "0    2022-22621198-6                            (BM) 2022-025580093-001   \n",
       "1    2022-23735040-5  (BM) 2022-037444211-009 / (PM) 2022-037444211-008   \n",
       "2    2023-29279366-2                            (BM) 2023-038720052-001   \n",
       "3    2023-29349678-3  (BM) 2023-039436473-001 / (PM) 2023-039436473-003   \n",
       "4    2023-29753799-0                            (BM) 2023-043685580-001   \n",
       "..               ...                                                ...   \n",
       "199  2025-37235681-5                                                      \n",
       "200  2025-37235673-7                                                      \n",
       "201  2025-37235741-5                            (BM) 2025-000307685-001   \n",
       "202  2025-37235743-0                                                      \n",
       "203  2025-37235772-9                                                      \n",
       "\n",
       "                                            local_fato   latitude  longitude  \\\n",
       "0    RUA CECILIA VICTOR, Nº 72 - BAIRRO PIRES - CON... -20.437387 -43.846584   \n",
       "1    RUA JOSE DEMETRIO COELHO, Nº 2780 - CIDADE NOV... -20.200914 -44.753441   \n",
       "2    CONDOMINIO ESTANCIA DO LAGO, Nº S/N - CARMO DO... -20.252825 -44.730713   \n",
       "3    AVENIDA GOVERNADOR MAGALHAES PINTO, Nº S/N - E... -20.106670 -44.843655   \n",
       "4                      RODOVIA BR 354, Km 410 - BAMBUI -19.962090 -45.959278   \n",
       "..                                                 ...        ...        ...   \n",
       "199   RUA DANTE ALIGHIERI, Nº 768 - ROSARIO I - SABARA -19.883966 -43.823536   \n",
       "200  BECO IBIA, Nº 4 - SENHOR DOS PASSOS - BELO HOR...        NaN        NaN   \n",
       "201      RUA VINTE E SEIS, Nº 12 - TROPICAL - CONTAGEM -19.919586 -44.116089   \n",
       "202  AVENIDA FLORESTA, Nº 231 - NOSSA SENHORA APARE... -19.893593 -44.432941   \n",
       "203  A DEFINIR RUA DO RETORNO, Nº S/N - VILA DA LUZ...        NaN        NaN   \n",
       "\n",
       "                                   recursos_empenhados     tipo_classificacao  \\\n",
       "0                                             ASL00082  BOLETIM DE OCORRENCIA   \n",
       "1    ACA00571 / ACA00571 / TAN / VSP10 / APP00979 /...  BOLETIM DE OCORRENCIA   \n",
       "2                                             REF11007  BOLETIM DE OCORRENCIA   \n",
       "3                        ACA00571 / ASL00814 / UR00560  BOLETIM DE OCORRENCIA   \n",
       "4                                             ASL02409  BOLETIM DE OCORRENCIA   \n",
       "..                                                 ...                    ...   \n",
       "199                                                                             \n",
       "200                                                                             \n",
       "201                                           ABT18879                          \n",
       "202                                            ASM4879                          \n",
       "203                                                                             \n",
       "\n",
       "                evento_associado       data   hora   COB   UNIDADE  \\\n",
       "0                            Não 2022-06-14  21:15  3COB  2CIA IND   \n",
       "1                            Não 2022-08-27  13:35  1COB     10BBM   \n",
       "2    OPERAÇÃO GUARDIÕES DO BIOMA 2023-08-18  17:08  1COB     10BBM   \n",
       "3                            Não 2023-08-23  06:06  1COB     10BBM   \n",
       "4                            Não 2023-09-17  19:06  1COB     10BBM   \n",
       "..                           ...        ...    ...   ...       ...   \n",
       "199                          Não 2025-01-03  13:17  1COB      3BBM   \n",
       "200                          Não 2025-01-03  13:18  1COB      1BBM   \n",
       "201                          Não 2025-01-03  13:22  1COB      2BBM   \n",
       "202                          Não 2025-01-03  13:23  1COB      2BBM   \n",
       "203                          Não 2025-01-03  13:24  1COB      3BBM   \n",
       "\n",
       "           municipio Natureza Prioridade                 COB_nome  \\\n",
       "0          CONGONHAS   S04012          1     3ºCOB - Juiz de Fora   \n",
       "1    CARMO DO CAJURU   S04007          1  1ºCOB - RMBH/Divinóplis   \n",
       "2    CARMO DO CAJURU   S02003          1  1ºCOB - RMBH/Divinóplis   \n",
       "3        DIVINOPOLIS   S02006          2  1ºCOB - RMBH/Divinóplis   \n",
       "4             BAMBUI   S02006          2  1ºCOB - RMBH/Divinóplis   \n",
       "..               ...      ...        ...                      ...   \n",
       "199           SABARA   P02002          2  1ºCOB - RMBH/Divinóplis   \n",
       "200   BELO HORIZONTE   P02002          2  1ºCOB - RMBH/Divinóplis   \n",
       "201         CONTAGEM   R01002          2  1ºCOB - RMBH/Divinóplis   \n",
       "202        FLORESTAL   P02002          2  1ºCOB - RMBH/Divinóplis   \n",
       "203   BELO HORIZONTE   P02002          1  1ºCOB - RMBH/Divinóplis   \n",
       "\n",
       "    Prioridade_nome  \n",
       "0      Prioridade 1  \n",
       "1      Prioridade 1  \n",
       "2      Prioridade 1  \n",
       "3      Prioridade 2  \n",
       "4      Prioridade 2  \n",
       "..              ...  \n",
       "199    Prioridade 2  \n",
       "200    Prioridade 2  \n",
       "201    Prioridade 2  \n",
       "202    Prioridade 2  \n",
       "203    Prioridade 1  \n",
       "\n",
       "[204 rows x 17 columns]"
      ]
     },
     "execution_count": 92,
     "metadata": {},
     "output_type": "execute_result"
    }
   ],
   "source": [
    "df"
   ]
  },
  {
   "cell_type": "code",
   "execution_count": 82,
   "metadata": {},
   "outputs": [],
   "source": [
    "# Dicionário para mapear os valores de COB para os nomes das regiões\n",
    "cob_legend = {\n",
    "    '1COB': '1ºCOB - RMBH/Divinóplis',\n",
    "    '2COB': '2ºCOB - Uberlândia',\n",
    "    '3COB': '3ºCOB - Juiz de Fora',\n",
    "    '4COB': '4ºCOB - Montes Claros',\n",
    "    '5COB': '5ºCOB - Governador Valadares',\n",
    "    '6COB': '6ºCOB - Varginha'\n",
    "}\n",
    "\n",
    "df['COB_nome'] = df['COB'].map(cob_legend)\n",
    "\n",
    "# Mapear Prioridades\n",
    "priori_legend = {\n",
    "    '1': 'Prioridade 1',\n",
    "    '2': 'Prioridade 2',\n",
    "    '3': 'Prioridade 3'\n",
    "}\n",
    "\n",
    "df['Prioridade_nome'] = df['Prioridade'].map(priori_legend)\n",
    "\n",
    "df\n"
   ]
  },
  {
   "cell_type": "code",
   "execution_count": 83,
   "metadata": {},
   "outputs": [
    {
     "data": {
      "text/html": [
       "<div>\n",
       "<style scoped>\n",
       "    .dataframe tbody tr th:only-of-type {\n",
       "        vertical-align: middle;\n",
       "    }\n",
       "\n",
       "    .dataframe tbody tr th {\n",
       "        vertical-align: top;\n",
       "    }\n",
       "\n",
       "    .dataframe thead th {\n",
       "        text-align: right;\n",
       "    }\n",
       "</style>\n",
       "<table border=\"1\" class=\"dataframe\">\n",
       "  <thead>\n",
       "    <tr style=\"text-align: right;\">\n",
       "      <th></th>\n",
       "      <th>numero_chamada</th>\n",
       "      <th>numero_reds</th>\n",
       "      <th>local_fato</th>\n",
       "      <th>latitude</th>\n",
       "      <th>longitude</th>\n",
       "      <th>recursos_empenhados</th>\n",
       "      <th>tipo_classificacao</th>\n",
       "      <th>evento_associado</th>\n",
       "      <th>data</th>\n",
       "      <th>hora</th>\n",
       "      <th>COB</th>\n",
       "      <th>UNIDADE</th>\n",
       "      <th>municipio</th>\n",
       "      <th>Natureza</th>\n",
       "      <th>Prioridade</th>\n",
       "      <th>COB_nome</th>\n",
       "      <th>Prioridade_nome</th>\n",
       "    </tr>\n",
       "  </thead>\n",
       "  <tbody>\n",
       "    <tr>\n",
       "      <th>0</th>\n",
       "      <td>2022-22621198-6</td>\n",
       "      <td>(BM) 2022-025580093-001</td>\n",
       "      <td>RUA CECILIA VICTOR, Nº 72 - BAIRRO PIRES - CON...</td>\n",
       "      <td>-20.437387</td>\n",
       "      <td>-43.846584</td>\n",
       "      <td>ASL00082</td>\n",
       "      <td>BOLETIM DE OCORRENCIA</td>\n",
       "      <td>Não</td>\n",
       "      <td>2022-06-14</td>\n",
       "      <td>21:15</td>\n",
       "      <td>3COB</td>\n",
       "      <td>2CIA IND</td>\n",
       "      <td>CONGONHAS</td>\n",
       "      <td>S04012</td>\n",
       "      <td>1</td>\n",
       "      <td>3ºCOB - Juiz de Fora</td>\n",
       "      <td>Prioridade 1</td>\n",
       "    </tr>\n",
       "    <tr>\n",
       "      <th>1</th>\n",
       "      <td>2022-23735040-5</td>\n",
       "      <td>(BM) 2022-037444211-009 / (PM) 2022-037444211-008</td>\n",
       "      <td>RUA JOSE DEMETRIO COELHO, Nº 2780 - CIDADE NOV...</td>\n",
       "      <td>-20.200914</td>\n",
       "      <td>-44.753441</td>\n",
       "      <td>ACA00571 / ACA00571 / TAN / VSP10 / APP00979 /...</td>\n",
       "      <td>BOLETIM DE OCORRENCIA</td>\n",
       "      <td>Não</td>\n",
       "      <td>2022-08-27</td>\n",
       "      <td>13:35</td>\n",
       "      <td>1COB</td>\n",
       "      <td>10BBM</td>\n",
       "      <td>CARMO DO CAJURU</td>\n",
       "      <td>S04007</td>\n",
       "      <td>1</td>\n",
       "      <td>1ºCOB - RMBH/Divinóplis</td>\n",
       "      <td>Prioridade 1</td>\n",
       "    </tr>\n",
       "    <tr>\n",
       "      <th>2</th>\n",
       "      <td>2023-29279366-2</td>\n",
       "      <td>(BM) 2023-038720052-001</td>\n",
       "      <td>CONDOMINIO ESTANCIA DO LAGO, Nº S/N - CARMO DO...</td>\n",
       "      <td>-20.252825</td>\n",
       "      <td>-44.730713</td>\n",
       "      <td>REF11007</td>\n",
       "      <td>BOLETIM DE OCORRENCIA</td>\n",
       "      <td>OPERAÇÃO GUARDIÕES DO BIOMA</td>\n",
       "      <td>2023-08-18</td>\n",
       "      <td>17:08</td>\n",
       "      <td>1COB</td>\n",
       "      <td>10BBM</td>\n",
       "      <td>CARMO DO CAJURU</td>\n",
       "      <td>S02003</td>\n",
       "      <td>1</td>\n",
       "      <td>1ºCOB - RMBH/Divinóplis</td>\n",
       "      <td>Prioridade 1</td>\n",
       "    </tr>\n",
       "    <tr>\n",
       "      <th>3</th>\n",
       "      <td>2023-29349678-3</td>\n",
       "      <td>(BM) 2023-039436473-001 / (PM) 2023-039436473-003</td>\n",
       "      <td>AVENIDA GOVERNADOR MAGALHAES PINTO, Nº S/N - E...</td>\n",
       "      <td>-20.106670</td>\n",
       "      <td>-44.843655</td>\n",
       "      <td>ACA00571 / ASL00814 / UR00560</td>\n",
       "      <td>BOLETIM DE OCORRENCIA</td>\n",
       "      <td>Não</td>\n",
       "      <td>2023-08-23</td>\n",
       "      <td>06:06</td>\n",
       "      <td>1COB</td>\n",
       "      <td>10BBM</td>\n",
       "      <td>DIVINOPOLIS</td>\n",
       "      <td>S02006</td>\n",
       "      <td>2</td>\n",
       "      <td>1ºCOB - RMBH/Divinóplis</td>\n",
       "      <td>Prioridade 2</td>\n",
       "    </tr>\n",
       "    <tr>\n",
       "      <th>4</th>\n",
       "      <td>2023-29753799-0</td>\n",
       "      <td>(BM) 2023-043685580-001</td>\n",
       "      <td>RODOVIA BR 354, Km 410 - BAMBUI</td>\n",
       "      <td>-19.962090</td>\n",
       "      <td>-45.959278</td>\n",
       "      <td>ASL02409</td>\n",
       "      <td>BOLETIM DE OCORRENCIA</td>\n",
       "      <td>Não</td>\n",
       "      <td>2023-09-17</td>\n",
       "      <td>19:06</td>\n",
       "      <td>1COB</td>\n",
       "      <td>10BBM</td>\n",
       "      <td>BAMBUI</td>\n",
       "      <td>S02006</td>\n",
       "      <td>2</td>\n",
       "      <td>1ºCOB - RMBH/Divinóplis</td>\n",
       "      <td>Prioridade 2</td>\n",
       "    </tr>\n",
       "  </tbody>\n",
       "</table>\n",
       "</div>"
      ],
      "text/plain": [
       "    numero_chamada                                        numero_reds  \\\n",
       "0  2022-22621198-6                            (BM) 2022-025580093-001   \n",
       "1  2022-23735040-5  (BM) 2022-037444211-009 / (PM) 2022-037444211-008   \n",
       "2  2023-29279366-2                            (BM) 2023-038720052-001   \n",
       "3  2023-29349678-3  (BM) 2023-039436473-001 / (PM) 2023-039436473-003   \n",
       "4  2023-29753799-0                            (BM) 2023-043685580-001   \n",
       "\n",
       "                                          local_fato   latitude  longitude  \\\n",
       "0  RUA CECILIA VICTOR, Nº 72 - BAIRRO PIRES - CON... -20.437387 -43.846584   \n",
       "1  RUA JOSE DEMETRIO COELHO, Nº 2780 - CIDADE NOV... -20.200914 -44.753441   \n",
       "2  CONDOMINIO ESTANCIA DO LAGO, Nº S/N - CARMO DO... -20.252825 -44.730713   \n",
       "3  AVENIDA GOVERNADOR MAGALHAES PINTO, Nº S/N - E... -20.106670 -44.843655   \n",
       "4                    RODOVIA BR 354, Km 410 - BAMBUI -19.962090 -45.959278   \n",
       "\n",
       "                                 recursos_empenhados     tipo_classificacao  \\\n",
       "0                                           ASL00082  BOLETIM DE OCORRENCIA   \n",
       "1  ACA00571 / ACA00571 / TAN / VSP10 / APP00979 /...  BOLETIM DE OCORRENCIA   \n",
       "2                                           REF11007  BOLETIM DE OCORRENCIA   \n",
       "3                      ACA00571 / ASL00814 / UR00560  BOLETIM DE OCORRENCIA   \n",
       "4                                           ASL02409  BOLETIM DE OCORRENCIA   \n",
       "\n",
       "              evento_associado       data   hora   COB   UNIDADE  \\\n",
       "0                          Não 2022-06-14  21:15  3COB  2CIA IND   \n",
       "1                          Não 2022-08-27  13:35  1COB     10BBM   \n",
       "2  OPERAÇÃO GUARDIÕES DO BIOMA 2023-08-18  17:08  1COB     10BBM   \n",
       "3                          Não 2023-08-23  06:06  1COB     10BBM   \n",
       "4                          Não 2023-09-17  19:06  1COB     10BBM   \n",
       "\n",
       "         municipio Natureza Prioridade                 COB_nome  \\\n",
       "0        CONGONHAS   S04012          1     3ºCOB - Juiz de Fora   \n",
       "1  CARMO DO CAJURU   S04007          1  1ºCOB - RMBH/Divinóplis   \n",
       "2  CARMO DO CAJURU   S02003          1  1ºCOB - RMBH/Divinóplis   \n",
       "3      DIVINOPOLIS   S02006          2  1ºCOB - RMBH/Divinóplis   \n",
       "4           BAMBUI   S02006          2  1ºCOB - RMBH/Divinóplis   \n",
       "\n",
       "  Prioridade_nome  \n",
       "0    Prioridade 1  \n",
       "1    Prioridade 1  \n",
       "2    Prioridade 1  \n",
       "3    Prioridade 2  \n",
       "4    Prioridade 2  "
      ]
     },
     "execution_count": 83,
     "metadata": {},
     "output_type": "execute_result"
    }
   ],
   "source": [
    "df.head()"
   ]
  },
  {
   "cell_type": "code",
   "execution_count": 91,
   "metadata": {},
   "outputs": [
    {
     "name": "stderr",
     "output_type": "stream",
     "text": [
      "/tmp/ipykernel_16162/621586852.py:3: FutureWarning:\n",
      "\n",
      "The default of observed=False is deprecated and will be changed to True in a future version of pandas. Pass observed=False to retain current behavior or observed=True to adopt the future default and silence this warning.\n",
      "\n"
     ]
    },
    {
     "data": {
      "application/vnd.plotly.v1+json": {
       "config": {
        "plotlyServerURL": "https://plot.ly"
       },
       "data": [
        {
         "alignmentgroup": "True",
         "hovertemplate": "Prioridades=Prioridade 1<br>COBs=%{x}<br>Número de Chamadas=%{y}<extra></extra>",
         "legendgroup": "Prioridade 1",
         "marker": {
          "color": "#636EFA",
          "pattern": {
           "shape": ""
          }
         },
         "name": "Prioridade 1",
         "offsetgroup": "Prioridade 1",
         "orientation": "v",
         "showlegend": true,
         "textposition": "auto",
         "type": "bar",
         "x": [
          "1ºCOB - RMBH/Divinóplis",
          "2ºCOB - Uberlândia",
          "3ºCOB - Juiz de Fora",
          "4ºCOB - Montes Claros",
          "5ºCOB - Governador Valadares",
          "6ºCOB - Varginha"
         ],
         "xaxis": "x",
         "y": [
          15,
          6,
          2,
          1,
          2,
          2
         ],
         "yaxis": "y"
        },
        {
         "alignmentgroup": "True",
         "hovertemplate": "Prioridades=Prioridade 2<br>COBs=%{x}<br>Número de Chamadas=%{y}<extra></extra>",
         "legendgroup": "Prioridade 2",
         "marker": {
          "color": "#FF0000",
          "pattern": {
           "shape": ""
          }
         },
         "name": "Prioridade 2",
         "offsetgroup": "Prioridade 2",
         "orientation": "v",
         "showlegend": true,
         "textposition": "auto",
         "type": "bar",
         "x": [
          "1ºCOB - RMBH/Divinóplis",
          "2ºCOB - Uberlândia",
          "3ºCOB - Juiz de Fora",
          "4ºCOB - Montes Claros",
          "5ºCOB - Governador Valadares",
          "6ºCOB - Varginha"
         ],
         "xaxis": "x",
         "y": [
          59,
          19,
          13,
          10,
          4,
          4
         ],
         "yaxis": "y"
        },
        {
         "alignmentgroup": "True",
         "hovertemplate": "Prioridades=Prioridade 3<br>COBs=%{x}<br>Número de Chamadas=%{y}<extra></extra>",
         "legendgroup": "Prioridade 3",
         "marker": {
          "color": "#00CC96",
          "pattern": {
           "shape": ""
          }
         },
         "name": "Prioridade 3",
         "offsetgroup": "Prioridade 3",
         "orientation": "v",
         "showlegend": true,
         "textposition": "auto",
         "type": "bar",
         "x": [
          "1ºCOB - RMBH/Divinóplis",
          "2ºCOB - Uberlândia",
          "3ºCOB - Juiz de Fora",
          "4ºCOB - Montes Claros",
          "5ºCOB - Governador Valadares",
          "6ºCOB - Varginha"
         ],
         "xaxis": "x",
         "y": [
          67,
          0,
          0,
          0,
          0,
          0
         ],
         "yaxis": "y"
        }
       ],
       "layout": {
        "barmode": "relative",
        "legend": {
         "title": {
          "text": "Prioridades"
         },
         "tracegroupgap": 0,
         "traceorder": "normal"
        },
        "template": {
         "data": {
          "bar": [
           {
            "error_x": {
             "color": "#2a3f5f"
            },
            "error_y": {
             "color": "#2a3f5f"
            },
            "marker": {
             "line": {
              "color": "#E5ECF6",
              "width": 0.5
             },
             "pattern": {
              "fillmode": "overlay",
              "size": 10,
              "solidity": 0.2
             }
            },
            "type": "bar"
           }
          ],
          "barpolar": [
           {
            "marker": {
             "line": {
              "color": "#E5ECF6",
              "width": 0.5
             },
             "pattern": {
              "fillmode": "overlay",
              "size": 10,
              "solidity": 0.2
             }
            },
            "type": "barpolar"
           }
          ],
          "carpet": [
           {
            "aaxis": {
             "endlinecolor": "#2a3f5f",
             "gridcolor": "white",
             "linecolor": "white",
             "minorgridcolor": "white",
             "startlinecolor": "#2a3f5f"
            },
            "baxis": {
             "endlinecolor": "#2a3f5f",
             "gridcolor": "white",
             "linecolor": "white",
             "minorgridcolor": "white",
             "startlinecolor": "#2a3f5f"
            },
            "type": "carpet"
           }
          ],
          "choropleth": [
           {
            "colorbar": {
             "outlinewidth": 0,
             "ticks": ""
            },
            "type": "choropleth"
           }
          ],
          "contour": [
           {
            "colorbar": {
             "outlinewidth": 0,
             "ticks": ""
            },
            "colorscale": [
             [
              0,
              "#0d0887"
             ],
             [
              0.1111111111111111,
              "#46039f"
             ],
             [
              0.2222222222222222,
              "#7201a8"
             ],
             [
              0.3333333333333333,
              "#9c179e"
             ],
             [
              0.4444444444444444,
              "#bd3786"
             ],
             [
              0.5555555555555556,
              "#d8576b"
             ],
             [
              0.6666666666666666,
              "#ed7953"
             ],
             [
              0.7777777777777778,
              "#fb9f3a"
             ],
             [
              0.8888888888888888,
              "#fdca26"
             ],
             [
              1,
              "#f0f921"
             ]
            ],
            "type": "contour"
           }
          ],
          "contourcarpet": [
           {
            "colorbar": {
             "outlinewidth": 0,
             "ticks": ""
            },
            "type": "contourcarpet"
           }
          ],
          "heatmap": [
           {
            "colorbar": {
             "outlinewidth": 0,
             "ticks": ""
            },
            "colorscale": [
             [
              0,
              "#0d0887"
             ],
             [
              0.1111111111111111,
              "#46039f"
             ],
             [
              0.2222222222222222,
              "#7201a8"
             ],
             [
              0.3333333333333333,
              "#9c179e"
             ],
             [
              0.4444444444444444,
              "#bd3786"
             ],
             [
              0.5555555555555556,
              "#d8576b"
             ],
             [
              0.6666666666666666,
              "#ed7953"
             ],
             [
              0.7777777777777778,
              "#fb9f3a"
             ],
             [
              0.8888888888888888,
              "#fdca26"
             ],
             [
              1,
              "#f0f921"
             ]
            ],
            "type": "heatmap"
           }
          ],
          "heatmapgl": [
           {
            "colorbar": {
             "outlinewidth": 0,
             "ticks": ""
            },
            "colorscale": [
             [
              0,
              "#0d0887"
             ],
             [
              0.1111111111111111,
              "#46039f"
             ],
             [
              0.2222222222222222,
              "#7201a8"
             ],
             [
              0.3333333333333333,
              "#9c179e"
             ],
             [
              0.4444444444444444,
              "#bd3786"
             ],
             [
              0.5555555555555556,
              "#d8576b"
             ],
             [
              0.6666666666666666,
              "#ed7953"
             ],
             [
              0.7777777777777778,
              "#fb9f3a"
             ],
             [
              0.8888888888888888,
              "#fdca26"
             ],
             [
              1,
              "#f0f921"
             ]
            ],
            "type": "heatmapgl"
           }
          ],
          "histogram": [
           {
            "marker": {
             "pattern": {
              "fillmode": "overlay",
              "size": 10,
              "solidity": 0.2
             }
            },
            "type": "histogram"
           }
          ],
          "histogram2d": [
           {
            "colorbar": {
             "outlinewidth": 0,
             "ticks": ""
            },
            "colorscale": [
             [
              0,
              "#0d0887"
             ],
             [
              0.1111111111111111,
              "#46039f"
             ],
             [
              0.2222222222222222,
              "#7201a8"
             ],
             [
              0.3333333333333333,
              "#9c179e"
             ],
             [
              0.4444444444444444,
              "#bd3786"
             ],
             [
              0.5555555555555556,
              "#d8576b"
             ],
             [
              0.6666666666666666,
              "#ed7953"
             ],
             [
              0.7777777777777778,
              "#fb9f3a"
             ],
             [
              0.8888888888888888,
              "#fdca26"
             ],
             [
              1,
              "#f0f921"
             ]
            ],
            "type": "histogram2d"
           }
          ],
          "histogram2dcontour": [
           {
            "colorbar": {
             "outlinewidth": 0,
             "ticks": ""
            },
            "colorscale": [
             [
              0,
              "#0d0887"
             ],
             [
              0.1111111111111111,
              "#46039f"
             ],
             [
              0.2222222222222222,
              "#7201a8"
             ],
             [
              0.3333333333333333,
              "#9c179e"
             ],
             [
              0.4444444444444444,
              "#bd3786"
             ],
             [
              0.5555555555555556,
              "#d8576b"
             ],
             [
              0.6666666666666666,
              "#ed7953"
             ],
             [
              0.7777777777777778,
              "#fb9f3a"
             ],
             [
              0.8888888888888888,
              "#fdca26"
             ],
             [
              1,
              "#f0f921"
             ]
            ],
            "type": "histogram2dcontour"
           }
          ],
          "mesh3d": [
           {
            "colorbar": {
             "outlinewidth": 0,
             "ticks": ""
            },
            "type": "mesh3d"
           }
          ],
          "parcoords": [
           {
            "line": {
             "colorbar": {
              "outlinewidth": 0,
              "ticks": ""
             }
            },
            "type": "parcoords"
           }
          ],
          "pie": [
           {
            "automargin": true,
            "type": "pie"
           }
          ],
          "scatter": [
           {
            "fillpattern": {
             "fillmode": "overlay",
             "size": 10,
             "solidity": 0.2
            },
            "type": "scatter"
           }
          ],
          "scatter3d": [
           {
            "line": {
             "colorbar": {
              "outlinewidth": 0,
              "ticks": ""
             }
            },
            "marker": {
             "colorbar": {
              "outlinewidth": 0,
              "ticks": ""
             }
            },
            "type": "scatter3d"
           }
          ],
          "scattercarpet": [
           {
            "marker": {
             "colorbar": {
              "outlinewidth": 0,
              "ticks": ""
             }
            },
            "type": "scattercarpet"
           }
          ],
          "scattergeo": [
           {
            "marker": {
             "colorbar": {
              "outlinewidth": 0,
              "ticks": ""
             }
            },
            "type": "scattergeo"
           }
          ],
          "scattergl": [
           {
            "marker": {
             "colorbar": {
              "outlinewidth": 0,
              "ticks": ""
             }
            },
            "type": "scattergl"
           }
          ],
          "scattermapbox": [
           {
            "marker": {
             "colorbar": {
              "outlinewidth": 0,
              "ticks": ""
             }
            },
            "type": "scattermapbox"
           }
          ],
          "scatterpolar": [
           {
            "marker": {
             "colorbar": {
              "outlinewidth": 0,
              "ticks": ""
             }
            },
            "type": "scatterpolar"
           }
          ],
          "scatterpolargl": [
           {
            "marker": {
             "colorbar": {
              "outlinewidth": 0,
              "ticks": ""
             }
            },
            "type": "scatterpolargl"
           }
          ],
          "scatterternary": [
           {
            "marker": {
             "colorbar": {
              "outlinewidth": 0,
              "ticks": ""
             }
            },
            "type": "scatterternary"
           }
          ],
          "surface": [
           {
            "colorbar": {
             "outlinewidth": 0,
             "ticks": ""
            },
            "colorscale": [
             [
              0,
              "#0d0887"
             ],
             [
              0.1111111111111111,
              "#46039f"
             ],
             [
              0.2222222222222222,
              "#7201a8"
             ],
             [
              0.3333333333333333,
              "#9c179e"
             ],
             [
              0.4444444444444444,
              "#bd3786"
             ],
             [
              0.5555555555555556,
              "#d8576b"
             ],
             [
              0.6666666666666666,
              "#ed7953"
             ],
             [
              0.7777777777777778,
              "#fb9f3a"
             ],
             [
              0.8888888888888888,
              "#fdca26"
             ],
             [
              1,
              "#f0f921"
             ]
            ],
            "type": "surface"
           }
          ],
          "table": [
           {
            "cells": {
             "fill": {
              "color": "#EBF0F8"
             },
             "line": {
              "color": "white"
             }
            },
            "header": {
             "fill": {
              "color": "#C8D4E3"
             },
             "line": {
              "color": "white"
             }
            },
            "type": "table"
           }
          ]
         },
         "layout": {
          "annotationdefaults": {
           "arrowcolor": "#2a3f5f",
           "arrowhead": 0,
           "arrowwidth": 1
          },
          "autotypenumbers": "strict",
          "coloraxis": {
           "colorbar": {
            "outlinewidth": 0,
            "ticks": ""
           }
          },
          "colorscale": {
           "diverging": [
            [
             0,
             "#8e0152"
            ],
            [
             0.1,
             "#c51b7d"
            ],
            [
             0.2,
             "#de77ae"
            ],
            [
             0.3,
             "#f1b6da"
            ],
            [
             0.4,
             "#fde0ef"
            ],
            [
             0.5,
             "#f7f7f7"
            ],
            [
             0.6,
             "#e6f5d0"
            ],
            [
             0.7,
             "#b8e186"
            ],
            [
             0.8,
             "#7fbc41"
            ],
            [
             0.9,
             "#4d9221"
            ],
            [
             1,
             "#276419"
            ]
           ],
           "sequential": [
            [
             0,
             "#0d0887"
            ],
            [
             0.1111111111111111,
             "#46039f"
            ],
            [
             0.2222222222222222,
             "#7201a8"
            ],
            [
             0.3333333333333333,
             "#9c179e"
            ],
            [
             0.4444444444444444,
             "#bd3786"
            ],
            [
             0.5555555555555556,
             "#d8576b"
            ],
            [
             0.6666666666666666,
             "#ed7953"
            ],
            [
             0.7777777777777778,
             "#fb9f3a"
            ],
            [
             0.8888888888888888,
             "#fdca26"
            ],
            [
             1,
             "#f0f921"
            ]
           ],
           "sequentialminus": [
            [
             0,
             "#0d0887"
            ],
            [
             0.1111111111111111,
             "#46039f"
            ],
            [
             0.2222222222222222,
             "#7201a8"
            ],
            [
             0.3333333333333333,
             "#9c179e"
            ],
            [
             0.4444444444444444,
             "#bd3786"
            ],
            [
             0.5555555555555556,
             "#d8576b"
            ],
            [
             0.6666666666666666,
             "#ed7953"
            ],
            [
             0.7777777777777778,
             "#fb9f3a"
            ],
            [
             0.8888888888888888,
             "#fdca26"
            ],
            [
             1,
             "#f0f921"
            ]
           ]
          },
          "colorway": [
           "#636efa",
           "#EF553B",
           "#00cc96",
           "#ab63fa",
           "#FFA15A",
           "#19d3f3",
           "#FF6692",
           "#B6E880",
           "#FF97FF",
           "#FECB52"
          ],
          "font": {
           "color": "#2a3f5f"
          },
          "geo": {
           "bgcolor": "white",
           "lakecolor": "white",
           "landcolor": "#E5ECF6",
           "showlakes": true,
           "showland": true,
           "subunitcolor": "white"
          },
          "hoverlabel": {
           "align": "left"
          },
          "hovermode": "closest",
          "mapbox": {
           "style": "light"
          },
          "paper_bgcolor": "white",
          "plot_bgcolor": "#E5ECF6",
          "polar": {
           "angularaxis": {
            "gridcolor": "white",
            "linecolor": "white",
            "ticks": ""
           },
           "bgcolor": "#E5ECF6",
           "radialaxis": {
            "gridcolor": "white",
            "linecolor": "white",
            "ticks": ""
           }
          },
          "scene": {
           "xaxis": {
            "backgroundcolor": "#E5ECF6",
            "gridcolor": "white",
            "gridwidth": 2,
            "linecolor": "white",
            "showbackground": true,
            "ticks": "",
            "zerolinecolor": "white"
           },
           "yaxis": {
            "backgroundcolor": "#E5ECF6",
            "gridcolor": "white",
            "gridwidth": 2,
            "linecolor": "white",
            "showbackground": true,
            "ticks": "",
            "zerolinecolor": "white"
           },
           "zaxis": {
            "backgroundcolor": "#E5ECF6",
            "gridcolor": "white",
            "gridwidth": 2,
            "linecolor": "white",
            "showbackground": true,
            "ticks": "",
            "zerolinecolor": "white"
           }
          },
          "shapedefaults": {
           "line": {
            "color": "#2a3f5f"
           }
          },
          "ternary": {
           "aaxis": {
            "gridcolor": "white",
            "linecolor": "white",
            "ticks": ""
           },
           "baxis": {
            "gridcolor": "white",
            "linecolor": "white",
            "ticks": ""
           },
           "bgcolor": "#E5ECF6",
           "caxis": {
            "gridcolor": "white",
            "linecolor": "white",
            "ticks": ""
           }
          },
          "title": {
           "x": 0.05
          },
          "xaxis": {
           "automargin": true,
           "gridcolor": "white",
           "linecolor": "white",
           "ticks": "",
           "title": {
            "standoff": 15
           },
           "zerolinecolor": "white",
           "zerolinewidth": 2
          },
          "yaxis": {
           "automargin": true,
           "gridcolor": "white",
           "linecolor": "white",
           "ticks": "",
           "title": {
            "standoff": 15
           },
           "zerolinecolor": "white",
           "zerolinewidth": 2
          }
         }
        },
        "title": {
         "text": "Quantidade de Chamadas por Prioridade em cada COB"
        },
        "xaxis": {
         "anchor": "y",
         "domain": [
          0,
          1
         ],
         "title": {
          "text": "COBs"
         }
        },
        "yaxis": {
         "anchor": "x",
         "domain": [
          0,
          1
         ],
         "title": {
          "text": "Número de Chamadas"
         }
        }
       }
      }
     },
     "metadata": {},
     "output_type": "display_data"
    }
   ],
   "source": [
    "# Grafico 1 - Quantidade de Ocorrencias Por Prioridade Por COB\n",
    "\n",
    "prioridade_por_cob = df.groupby(['COB_nome', 'Prioridade_nome']).size().reset_index(name='Quantidade')\n",
    "fig3 = px.bar(prioridade_por_cob, x='COB_nome', y='Quantidade', color='Prioridade_nome',\n",
    "                title='Quantidade de Chamadas por Prioridade em cada COB',\n",
    "                labels={'Quantidade': 'Número de Chamadas', 'COB_nome': 'COBs', 'Prioridade_nome': 'Prioridades'},\n",
    "                    color_discrete_sequence=['#636EFA', '#FF0000', '#00CC96'])\n",
    "fig3.update_layout(\n",
    "    legend_title_text='Prioridades', legend=dict(traceorder='normal'))"
   ]
  }
 ],
 "metadata": {
  "kernelspec": {
   "display_name": "venv",
   "language": "python",
   "name": "python3"
  },
  "language_info": {
   "codemirror_mode": {
    "name": "ipython",
    "version": 3
   },
   "file_extension": ".py",
   "mimetype": "text/x-python",
   "name": "python",
   "nbconvert_exporter": "python",
   "pygments_lexer": "ipython3",
   "version": "3.13.1"
  }
 },
 "nbformat": 4,
 "nbformat_minor": 2
}
